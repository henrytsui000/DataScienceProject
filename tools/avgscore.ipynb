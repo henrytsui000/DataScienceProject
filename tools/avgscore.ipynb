{
 "cells": [
  {
   "cell_type": "code",
   "execution_count": 5,
   "metadata": {},
   "outputs": [],
   "source": [
    "import pandas as pd"
   ]
  },
  {
   "cell_type": "code",
   "execution_count": 41,
   "metadata": {},
   "outputs": [
    {
     "data": {
      "text/plain": [
       "'\\nscore file format :\\nday1                 day2           day3    ...\\nnew1:score1:        new1:score1:\\nnew2:score2:        new2:score2:\\nnew3:score3:\\n...\\n\\n\\n'"
      ]
     },
     "execution_count": 41,
     "metadata": {},
     "output_type": "execute_result"
    }
   ],
   "source": [
    "PATH = \"../data/score.csv\"\n",
    "'''\n",
    "score file format :\n",
    "day1                 day2           day3    ...\n",
    "new1:score1:        new1:score1:\n",
    "new2:score2:        new2:score2:\n",
    "new3:score3:\n",
    "...\n",
    "\n",
    "\n",
    "'''"
   ]
  },
  {
   "cell_type": "code",
   "execution_count": 42,
   "metadata": {},
   "outputs": [
    {
     "name": "stdout",
     "output_type": "stream",
     "text": [
      "   2022/11/19  2022/11/20  2022/11/21  2022/11/22  2022/11/23\n",
      "0        0.50         0.0         0.3        -0.4         0.1\n",
      "1        0.60         1.0         0.4        -1.0         NaN\n",
      "2        0.70        -0.3         NaN         0.1         NaN\n",
      "3       -0.90         NaN         NaN         0.2         NaN\n",
      "4       -0.01         NaN         NaN         NaN         NaN\n",
      "2022/11/19    0.178000\n",
      "2022/11/20    0.233333\n",
      "2022/11/21    0.350000\n",
      "2022/11/22   -0.275000\n",
      "2022/11/23    0.100000\n",
      "dtype: float64\n"
     ]
    }
   ],
   "source": [
    "score = pd.read_csv(PATH)\n",
    "print(score)\n",
    "# Find the mean including NaN values using DataFrame.mean()\n",
    "scoremean = score.mean(axis = 0, skipna = True)\n",
    "# scoremean is <class 'pandas.core.series.Series'>\n",
    "print(scoremean)"
   ]
  },
  {
   "cell_type": "code",
   "execution_count": 43,
   "metadata": {},
   "outputs": [
    {
     "name": "stdout",
     "output_type": "stream",
     "text": [
      "         date  mean_score\n",
      "0  2022/11/19    0.178000\n",
      "1  2022/11/20    0.233333\n",
      "2  2022/11/21    0.350000\n",
      "3  2022/11/22   -0.275000\n",
      "4  2022/11/23    0.100000\n"
     ]
    }
   ],
   "source": [
    "scm = pd.DataFrame(scoremean)\n",
    "scm = scm.reset_index(level=0)\n",
    "scm.columns = [\"date\",\"mean_score\"]\n",
    "print(scm)"
   ]
  },
  {
   "cell_type": "code",
   "execution_count": 44,
   "metadata": {},
   "outputs": [],
   "source": [
    "price = pd.read_csv(\"../data/tmp.csv\")"
   ]
  },
  {
   "cell_type": "code",
   "execution_count": 45,
   "metadata": {},
   "outputs": [],
   "source": [
    "avg = pd.DataFrame()\n",
    "for idx in [\"symbol\",\"datentime\",\"preprice\",\"nowprice\",\"nextprice\"]:\n",
    "    avg[idx] = price[idx]"
   ]
  },
  {
   "cell_type": "code",
   "execution_count": 50,
   "metadata": {},
   "outputs": [],
   "source": [
    "# origin 25278 rows\n",
    "new_avg = avg.drop_duplicates()\n",
    "new_avg.reset_index(drop=True, inplace=True)\n",
    "# new 2204 rows"
   ]
  },
  {
   "cell_type": "code",
   "execution_count": null,
   "metadata": {},
   "outputs": [],
   "source": [
    "linear_reg = pd.concat([avg,scm])\n",
    "linear_reg.to_csv(\"../data/linear_reg.csv\")"
   ]
  }
 ],
 "metadata": {
  "kernelspec": {
   "display_name": "Python 3.8.15 ('IDS')",
   "language": "python",
   "name": "python3"
  },
  "language_info": {
   "codemirror_mode": {
    "name": "ipython",
    "version": 3
   },
   "file_extension": ".py",
   "mimetype": "text/x-python",
   "name": "python",
   "nbconvert_exporter": "python",
   "pygments_lexer": "ipython3",
   "version": "3.8.15"
  },
  "orig_nbformat": 4,
  "vscode": {
   "interpreter": {
    "hash": "72b71fc53b4852de6adbc5d800e915723fe7a4acd43f1cc6118b311d0327eb76"
   }
  }
 },
 "nbformat": 4,
 "nbformat_minor": 2
}
