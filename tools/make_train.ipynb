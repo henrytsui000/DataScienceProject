{
 "cells": [
  {
   "cell_type": "code",
   "execution_count": 356,
   "metadata": {},
   "outputs": [],
   "source": [
    "import pandas as pd\n",
    "import numpy as np\n",
    "from tqdm import tqdm\n",
    "import datetime as dt\n",
    "import time"
   ]
  },
  {
   "cell_type": "code",
   "execution_count": 357,
   "metadata": {},
   "outputs": [],
   "source": [
    "news = pd.read_csv(\"../data/news.csv\")\n",
    "price = pd.read_csv(\"../data/stock.csv\")"
   ]
  },
  {
   "cell_type": "code",
   "execution_count": 359,
   "metadata": {},
   "outputs": [],
   "source": [
    "merge = pd.DataFrame(columns=[\"symbol\", \"date\", \"time\",\"content\", \"preprice\", \"latprice\", \"match\", \"sentiment\", \"score\"])"
   ]
  },
  {
   "cell_type": "code",
   "execution_count": 360,
   "metadata": {},
   "outputs": [],
   "source": [
    "for title in [\"symbol\", \"date\", \"time\", \"content\", \"match\", \"sentiment\"]:\n",
    "    merge[title] = news[title]\n",
    "merge[\"score\"] = news[\"match\"] * news[\"sentiment\"]"
   ]
  },
  {
   "cell_type": "code",
   "execution_count": null,
   "metadata": {},
   "outputs": [],
   "source": [
    "\n",
    "pzmerge = pd.DataFrame()\n",
    "for idx, new in tqdm(news.iterrows()):\n",
    "    date = new[\"date\"]\n",
    "    time = new[\"time\"]\n",
    "    match =new[\"match\"]\n",
    "    senti = new[\"sentiment\"]\n",
    "    cb = date +\" \"+ time\n",
    "    usdate = dt.datetime.strptime(cb, '%Y-%m-%d %H:%M:%S')\n",
    "    usdate -= dt.timedelta(hours=5)\n",
    "    symbol = new[\"symbol\"].lower()\n",
    "    symbol = symbol if not symbol == \"googl\" else \"goog\"\n",
    "    dtformat = dt.datetime.strptime(date, '%Y-%m-%d').date()\n",
    "    while True:\n",
    "        if price['Date'].eq(date).any():\n",
    "            break\n",
    "        else:\n",
    "            dtformat+=dt.timedelta(days=1)\n",
    "            date = dt.datetime.strftime(dtformat,'%Y-%m-%d')\n",
    "    row = price[price[\"Date\"]==date]\n",
    "    if usdate.hour<16:\n",
    "        nowprice = price.iloc[row.index][[symbol]]\n",
    "        preprice = price.iloc[row.index-1][[symbol]]\n",
    "        nextprice = price.iloc[row.index+1][[symbol]]\n",
    "    else:\n",
    "        preprice = price.iloc[row.index][[symbol]]\n",
    "        nowprice = price.iloc[row.index+1][[symbol]]\n",
    "        nextprice = price.iloc[row.index+2][[symbol]]\n",
    "    pz = pd.concat([preprice,nowprice,nextprice]).T\n",
    "    pz.columns = [\"preprice\",\"nowprice\",\"nextprice\"]\n",
    "    pzmerge = pd.concat([pzmerge, pz])\n"
   ]
  },
  {
   "cell_type": "code",
   "execution_count": 334,
   "metadata": {},
   "outputs": [
    {
     "name": "stdout",
     "output_type": "stream",
     "text": [
      "      symbol        date      time                                  uuid  \\\n",
      "0       META  2022-11-05  20:13:24  d5b8c1b1-a352-488a-99a0-98084f6a425f   \n",
      "1       META  2022-11-05  18:02:00  186d471c-27a8-4e3d-a905-ab6982b32996   \n",
      "2       META  2022-11-05  18:00:00  a6e7fdb2-80ff-46ea-bd07-53f5c6416111   \n",
      "3       META  2022-11-05  16:49:01  5ff55fac-7139-46f1-bc32-30ca00379954   \n",
      "4       META  2022-11-05  11:58:00  3291b5cf-5c58-4a63-a1c0-db633b9ba218   \n",
      "...      ...         ...       ...                                   ...   \n",
      "25273   NFLX  2021-01-22  14:55:08  2e8daa5d-b22e-43de-93b1-03ef99e57857   \n",
      "25274   NFLX  2021-01-22  14:48:47  df63c55b-0ed3-432c-aa66-69911d9986e7   \n",
      "25275   NFLX  2021-01-22  14:42:59  a3db3a06-5a21-4dd7-b42b-63fbfbd48a49   \n",
      "25276   NFLX  2021-01-22  13:55:04  e9447691-d953-4025-8d04-2cdf8aaa0aa7   \n",
      "25277   NFLX  2021-01-22  13:30:00  68dfe285-a462-4765-97f9-e261b177c24a   \n",
      "\n",
      "           match  sentiment  \\\n",
      "0      13.746987  -0.458800   \n",
      "1       9.408848   0.624900   \n",
      "2      13.847881  -0.571900   \n",
      "3      11.597897   0.000000   \n",
      "4       3.993389   0.510600   \n",
      "...          ...        ...   \n",
      "25273  50.651016   0.691150   \n",
      "25274  17.759022  -0.084250   \n",
      "25275  17.065092   0.435667   \n",
      "25276  18.219120   0.669900   \n",
      "25277  18.618023   0.165490   \n",
      "\n",
      "                                                 content     pz0     pz1  \\\n",
      "0      Twitter co-founder Jack Dorsey admits he grew ...   90.79   96.72   \n",
      "1      The Fall of Big Tech Is Boosting Stock Quants ...   90.79   96.72   \n",
      "2      Meta Stock: Mr. Market Shorted Zuckerberg; Fut...   90.79   96.72   \n",
      "3      What stock investors should watch for in the m...   90.79   96.72   \n",
      "4                    Meta Lesson 1: Corporate Governance   90.79   96.72   \n",
      "...                                                  ...     ...     ...   \n",
      "25273  UBS Upgrades Disney On Streaming Strength, Val...  579.84  565.17   \n",
      "25274  This New Action Film Directed By RZA Is Now Th...  579.84  565.17   \n",
      "25275  IBM, Intel Pressure Stocks Along With Worry Ab...  579.84  565.17   \n",
      "25276  Did You Miss This Valuable Info in Netflix's L...  579.84  565.17   \n",
      "25277  Netflix Beat Subscriber Expectations by Return...  579.84  565.17   \n",
      "\n",
      "          pz2  \n",
      "0       96.47  \n",
      "1       96.47  \n",
      "2       96.47  \n",
      "3       96.47  \n",
      "4       96.47  \n",
      "...       ...  \n",
      "25273  556.78  \n",
      "25274  556.78  \n",
      "25275  556.78  \n",
      "25276  556.78  \n",
      "25277  556.78  \n",
      "\n",
      "[25278 rows x 10 columns]\n"
     ]
    }
   ],
   "source": [
    "df = news.reset_index(drop=True)\n",
    "df1 = pzmerge.reset_index(drop=True)\n",
    "merge = pd.concat([df,df1], axis = 1)\n",
    "print(merge)\n",
    "merge.to_csv(\"../data/merge2.csv\")"
   ]
  }
 ],
 "metadata": {
  "kernelspec": {
   "display_name": "Python 3.8.13 ('DS')",
   "language": "python",
   "name": "python3"
  },
  "language_info": {
   "codemirror_mode": {
    "name": "ipython",
    "version": 3
   },
   "file_extension": ".py",
   "mimetype": "text/x-python",
   "name": "python",
   "nbconvert_exporter": "python",
   "pygments_lexer": "ipython3",
   "version": "3.8.13"
  },
  "orig_nbformat": 4,
  "vscode": {
   "interpreter": {
    "hash": "2a7d309622ed6b71e556c1da103e1afe18816e801069c1ec6e69b2d440d1ea7e"
   }
  }
 },
 "nbformat": 4,
 "nbformat_minor": 2
}
