{
 "cells": [
  {
   "cell_type": "code",
   "execution_count": 2,
   "metadata": {},
   "outputs": [],
   "source": [
    "import pandas as pd\n",
    "import numpy as np\n",
    "from tqdm import tqdm\n",
    "import datetime as dt\n",
    "import time"
   ]
  },
  {
   "cell_type": "code",
   "execution_count": 3,
   "metadata": {},
   "outputs": [],
   "source": [
    "news = pd.read_csv(\"../data/news.csv\")\n",
    "price = pd.read_csv(\"../data/stock.csv\")"
   ]
  },
  {
   "cell_type": "code",
   "execution_count": 4,
   "metadata": {},
   "outputs": [],
   "source": [
    "revised_news = pd.DataFrame(columns=[[\"symbol\", \"datentime\", \"content\", \"match\", \"sentiment\", \"score\"]])"
   ]
  },
  {
   "cell_type": "code",
   "execution_count": 5,
   "metadata": {},
   "outputs": [],
   "source": [
    "for title in [\"symbol\",\"content\", \"match\", \"sentiment\"]:\n",
    "    revised_news[title] = news[title]\n",
    "revised_news[\"score\"] = news[\"match\"] * news[\"sentiment\"]\n",
    "revised_news[\"datentime\"] = pd.to_datetime(news['date']) + pd.to_timedelta(news['time'])"
   ]
  },
  {
   "cell_type": "code",
   "execution_count": 14,
   "metadata": {},
   "outputs": [
    {
     "name": "stderr",
     "output_type": "stream",
     "text": [
      "25278it [00:34, 743.10it/s]\n"
     ]
    }
   ],
   "source": [
    "close_time_USTime = 16\n",
    "close_time_UTC0 = close_time_USTime+5\n",
    "shift = 24-close_time_UTC0\n",
    "price_merge = pd.DataFrame()\n",
    "usdatecol = pd.DataFrame()\n",
    "for idx, new in tqdm(news.iterrows()):\n",
    "    date = new[\"date\"]      # UTC+0\n",
    "    times = new[\"time\"]\n",
    "    match =new[\"match\"]\n",
    "    senti = new[\"sentiment\"]\n",
    "    cb = date +\" \"+ times\n",
    "    usdate = dt.datetime.strptime(cb, '%Y-%m-%d %H:%M:%S')\n",
    "    usdate += dt.timedelta(hours=shift)\n",
    "    usdateindex = dt.datetime.strftime(usdate,'%Y-%m-%d')   # shift UTC+0 time to match 00:01 open and 24:00 close \n",
    "    usdateindex_series = pd.Series(usdateindex)\n",
    "    usdatecol = pd.concat([usdatecol, usdateindex_series])\n",
    "    symbol = new[\"symbol\"].lower()\n",
    "    symbol = symbol if not symbol == \"googl\" else \"goog\"\n",
    "    dtformat = dt.datetime.strptime(usdateindex, '%Y-%m-%d').date()    \n",
    "    while True:\n",
    "        if price['Date'].eq(usdateindex).any():\n",
    "            break\n",
    "        else:\n",
    "            dtformat+=dt.timedelta(days=1)      #choose news between 00:00 to 23:59 in usdateindex date\n",
    "            usdateindex = dt.datetime.strftime(dtformat,'%Y-%m-%d')     #update usdateindex\n",
    "    row = price[price[\"Date\"]==usdateindex]\n",
    "    nowprice = price.iloc[row.index][[symbol]]\n",
    "    preprice = price.iloc[row.index-1][[symbol]]\n",
    "    nextprice = price.iloc[row.index+1][[symbol]]\n",
    "    pz = pd.concat([preprice,nowprice,nextprice]).T\n",
    "    pz.columns = [\"preprice\",\"nowprice\",\"nextprice\"]\n",
    "    price_merge = pd.concat([price_merge, pz])\n"
   ]
  },
  {
   "cell_type": "code",
   "execution_count": 15,
   "metadata": {},
   "outputs": [],
   "source": [
    "usdatecol.reset_index(level=0, inplace=True)\n",
    "revised_news[\"datentime\"] = usdatecol[0]"
   ]
  },
  {
   "cell_type": "code",
   "execution_count": 16,
   "metadata": {},
   "outputs": [],
   "source": [
    "revised_news = revised_news.reset_index(drop=True)\n",
    "revised_news.columns = [x[0] for x in revised_news.columns]\n",
    "price_merge = price_merge.reset_index(drop=True)\n",
    "merge = pd.concat([revised_news,price_merge], axis=1)\n",
    "merge.to_csv(\"../data/tmp.csv\",index=False)"
   ]
  },
  {
   "cell_type": "code",
   "execution_count": null,
   "metadata": {},
   "outputs": [],
   "source": []
  }
 ],
 "metadata": {
  "kernelspec": {
   "display_name": "Python 3.8.15 ('IDS')",
   "language": "python",
   "name": "python3"
  },
  "language_info": {
   "codemirror_mode": {
    "name": "ipython",
    "version": 3
   },
   "file_extension": ".py",
   "mimetype": "text/x-python",
   "name": "python",
   "nbconvert_exporter": "python",
   "pygments_lexer": "ipython3",
   "version": "3.8.15"
  },
  "orig_nbformat": 4,
  "vscode": {
   "interpreter": {
    "hash": "72b71fc53b4852de6adbc5d800e915723fe7a4acd43f1cc6118b311d0327eb76"
   }
  }
 },
 "nbformat": 4,
 "nbformat_minor": 2
}
