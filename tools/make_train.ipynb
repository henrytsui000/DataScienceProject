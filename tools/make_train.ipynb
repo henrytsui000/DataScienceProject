{
 "cells": [
  {
   "cell_type": "code",
   "execution_count": 171,
   "metadata": {},
   "outputs": [],
   "source": [
    "import pandas as pd\n",
    "import numpy as np\n",
    "from tqdm import tqdm\n",
    "import datetime as dt"
   ]
  },
  {
   "cell_type": "code",
   "execution_count": 161,
   "metadata": {},
   "outputs": [],
   "source": [
    "news = pd.read_csv(\"../data/News/news.csv\")\n",
    "stock = pd.read_csv(\"../data/Stock/stock.csv\", index_col=0)"
   ]
  },
  {
   "cell_type": "code",
   "execution_count": 162,
   "metadata": {},
   "outputs": [],
   "source": [
    "merge = pd.DataFrame(columns=[\"symbol\", \"date\", \"content\", \"preprice\", \"latprice\", \"match\", \"sentiment\", \"score\"])"
   ]
  },
  {
   "cell_type": "code",
   "execution_count": 163,
   "metadata": {},
   "outputs": [],
   "source": [
    "for title in [\"symbol\", \"date\", \"content\", \"match\", \"sentiment\"]:\n",
    "    merge[title] = news[title]\n",
    "merge[\"score\"] = news[\"match\"] * news[\"sentiment\"]"
   ]
  },
  {
   "cell_type": "code",
   "execution_count": 164,
   "metadata": {},
   "outputs": [],
   "source": [
    "idx = 0\n",
    "new = news.iloc[idx]\n",
    "symbol = new[\"symbol\"].lower()\n",
    "symbol = symbol if not symbol == \"googl\" else \"goog\"\n",
    "date = new[\"date\"]\n",
    "if date in stock.index:\n",
    "    merge.iloc[idx, merge.columns.get_loc('preprice')] = stock.loc[date][symbol]\n",
    "    print(merge.iloc[idx][\"preprice\"], stock.loc[date][symbol])\n"
   ]
  },
  {
   "cell_type": "code",
   "execution_count": 182,
   "metadata": {},
   "outputs": [
    {
     "name": "stderr",
     "output_type": "stream",
     "text": [
      "25278it [00:06, 3763.55it/s]\n"
     ]
    }
   ],
   "source": [
    "for idx, new in tqdm(news.iterrows()):\n",
    "    symbol = new[\"symbol\"].lower()\n",
    "    symbol = symbol if not symbol == \"googl\" else \"goog\"\n",
    "    date = new[\"date\"]\n",
    "    if date in stock.index:\n",
    "        # print(stock.loc[date][symbol])\n",
    "        merge.iloc[idx, merge.columns.get_loc('preprice')] = stock.loc[date][symbol]\n",
    "    next_day = str((dt.datetime.strptime(date, \"%Y-%m-%d\") + dt.timedelta(days=1)).date())\n",
    "    if next_day in stock.index:\n",
    "        merge.iloc[idx, merge.columns.get_loc('latprice')] = stock.loc[next_day][symbol]"
   ]
  },
  {
   "cell_type": "code",
   "execution_count": 183,
   "metadata": {},
   "outputs": [],
   "source": [
    "merge.to_csv(\"../data/merge.csv\")"
   ]
  },
  {
   "cell_type": "code",
   "execution_count": null,
   "metadata": {},
   "outputs": [],
   "source": []
  }
 ],
 "metadata": {
  "kernelspec": {
   "display_name": "Python 3.8.13 ('IDS')",
   "language": "python",
   "name": "python3"
  },
  "language_info": {
   "codemirror_mode": {
    "name": "ipython",
    "version": 3
   },
   "file_extension": ".py",
   "mimetype": "text/x-python",
   "name": "python",
   "nbconvert_exporter": "python",
   "pygments_lexer": "ipython3",
   "version": "3.8.13"
  },
  "orig_nbformat": 4,
  "vscode": {
   "interpreter": {
    "hash": "6c5319918c1df56bbc8425fc11a4113500c53384b36f54418b1e7926749cda2f"
   }
  }
 },
 "nbformat": 4,
 "nbformat_minor": 2
}
