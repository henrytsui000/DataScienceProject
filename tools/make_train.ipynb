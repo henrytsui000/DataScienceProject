{
 "cells": [
  {
   "cell_type": "code",
   "execution_count": 277,
   "metadata": {},
   "outputs": [],
   "source": [
    "import pandas as pd\n",
    "import numpy as np\n",
    "from tqdm import tqdm\n",
    "import datetime as dt\n",
    "import time"
   ]
  },
  {
   "cell_type": "code",
   "execution_count": 286,
   "metadata": {},
   "outputs": [],
   "source": [
    "news = pd.read_csv(\"../data/News/news.csv\")\n",
    "price = pd.read_csv(\"../data/Stock/stock.csv\")"
   ]
  },
  {
   "cell_type": "code",
   "execution_count": 287,
   "metadata": {},
   "outputs": [],
   "source": [
    "merge = pd.DataFrame(columns=[\"symbol\", \"date\", \"time\",\"content\", \"preprice\", \"latprice\", \"match\", \"sentiment\", \"score\"])"
   ]
  },
  {
   "cell_type": "code",
   "execution_count": 288,
   "metadata": {},
   "outputs": [],
   "source": [
    "for title in [\"symbol\", \"date\", \"time\", \"content\", \"match\", \"sentiment\"]:\n",
    "    merge[title] = news[title]\n",
    "merge[\"score\"] = news[\"match\"] * news[\"sentiment\"]"
   ]
  },
  {
   "cell_type": "code",
   "execution_count": 289,
   "metadata": {},
   "outputs": [
    {
     "name": "stdout",
     "output_type": "stream",
     "text": [
      "            Date    meta     goog     amzn      nflx      aapl\n",
      "0     2012-05-18   38.23  14.9539  10.6925    9.9943   16.1466\n",
      "1     2012-05-21   34.03  15.2954  10.9055   10.2486   17.0873\n",
      "2     2012-05-22   31.00  14.9639  10.7665    9.6729   16.9561\n",
      "3     2012-05-23   32.00  15.1796  10.8640   10.2729   17.3698\n",
      "4     2012-05-24   33.03  15.0351  10.7620   10.0386   17.2103\n",
      "...          ...     ...      ...      ...       ...       ...\n",
      "2641  2022-11-15  117.08  98.7200  98.9400  310.2000  150.0400\n",
      "2642  2022-11-16  113.23  98.9900  97.1200  306.0200  148.7900\n",
      "2643  2022-11-17  111.45  98.5000  94.8500  295.2800  150.7200\n",
      "2644  2022-11-18  112.05  97.8000  94.1400  287.9800  151.2900\n",
      "2645  2022-11-21  109.86  95.8300  92.4600  285.0500  148.0100\n",
      "\n",
      "[2646 rows x 6 columns]\n"
     ]
    }
   ],
   "source": [
    "print(price)"
   ]
  },
  {
   "cell_type": "code",
   "execution_count": 290,
   "metadata": {},
   "outputs": [
    {
     "name": "stdout",
     "output_type": "stream",
     "text": [
      "symbol                                                    META\n",
      "date                                                2022-11-05\n",
      "time                                                  20:13:24\n",
      "uuid                      d5b8c1b1-a352-488a-99a0-98084f6a425f\n",
      "match                                                13.746987\n",
      "sentiment                                              -0.4588\n",
      "content      Twitter co-founder Jack Dorsey admits he grew ...\n",
      "Name: 0, dtype: object\n",
      "2022-11-05 20:13:24\n",
      "2022-11-05 15:13:24\n"
     ]
    }
   ],
   "source": [
    "idx = 0\n",
    "new = news.iloc[idx]\n",
    "print(new)\n",
    "symbol = new[\"symbol\"].lower()\n",
    "symbol = symbol if not symbol == \"googl\" else \"goog\"\n",
    "date = new[\"date\"]\n",
    "time = new[\"time\"]\n",
    "cb = date +\" \"+ time\n",
    "datetime_object = datetime.datetime.strptime(cb, '%Y-%m-%d %H:%M:%S')\n",
    "print(datetime_object)\n",
    "mv = datetime.timedelta(hours=5)\n",
    "datetime_object -= mv\n",
    "print(datetime_object)\n",
    "if date in price.index:\n",
    "    merge.iloc[idx, merge.columns.get_loc('preprice')] = price.loc[date][symbol]\n",
    "    print(merge.iloc[idx][\"preprice\"], price.loc[date][symbol])\n"
   ]
  },
  {
   "cell_type": "code",
   "execution_count": 292,
   "metadata": {},
   "outputs": [
    {
     "name": "stderr",
     "output_type": "stream",
     "text": [
      "25278it [00:33, 744.11it/s]"
     ]
    },
    {
     "name": "stdout",
     "output_type": "stream",
     "text": [
      "         pz0     pz1     pz2\n",
      "meta   90.79   96.72   96.47\n",
      "meta   90.79   96.72   96.47\n",
      "meta   90.79   96.72   96.47\n",
      "meta   90.79   96.72   96.47\n",
      "meta   90.79   96.72   96.47\n",
      "...      ...     ...     ...\n",
      "nflx  579.84  565.17  556.78\n",
      "nflx  579.84  565.17  556.78\n",
      "nflx  579.84  565.17  556.78\n",
      "nflx  579.84  565.17  556.78\n",
      "nflx  579.84  565.17  556.78\n",
      "\n",
      "[25278 rows x 3 columns]\n"
     ]
    },
    {
     "name": "stderr",
     "output_type": "stream",
     "text": [
      "\n"
     ]
    }
   ],
   "source": [
    "pzmerge = pd.DataFrame()\n",
    "for idx, new in tqdm(news.iterrows()):\n",
    "    date = new[\"date\"]\n",
    "    time = new[\"time\"]\n",
    "    match =new[\"match\"]\n",
    "    senti = new[\"sentiment\"]\n",
    "    cb = date +\" \"+ time\n",
    "    usdate = datetime.datetime.strptime(cb, '%Y-%m-%d %H:%M:%S')\n",
    "    usdate -= datetime.timedelta(hours=5)\n",
    "    symbol = new[\"symbol\"].lower()\n",
    "    symbol = symbol if not symbol == \"googl\" else \"goog\"\n",
    "    dtformat = datetime.datetime.strptime(date, '%Y-%m-%d').date()\n",
    "    while True:\n",
    "        if price['Date'].eq(date).any():\n",
    "            # print(date, price['Date'].eq(date).any())\n",
    "            break\n",
    "        else:\n",
    "            dtformat+=datetime.timedelta(days=1)\n",
    "            date = datetime.datetime.strftime(dtformat,'%Y-%m-%d')\n",
    "    row = price[price[\"Date\"]==date]\n",
    "    if usdate.hour<16:\n",
    "        # print(usdate.hour,\"<16\")[[\"Date\",\"aapl\"]]\n",
    "        pz1 = price.iloc[row.index][[symbol]]\n",
    "        pz0 = price.iloc[row.index-1][[symbol]]\n",
    "        pz2 = price.iloc[row.index+1][[symbol]]\n",
    "    else:\n",
    "        # print(usdate.hour,\">=16\")\n",
    "        pz0 = price.iloc[row.index][[symbol]]\n",
    "        pz1 = price.iloc[row.index+1][[symbol]]\n",
    "        pz2 = price.iloc[row.index+2][[symbol]]\n",
    "    # pz0 = pz0.to_frame()\n",
    "    # pz1 = pz1.to_frame()\n",
    "    # pz2 = pz2.to_frame()\n",
    "    pz = pd.concat([pz0,pz1,pz2]).T\n",
    "    pz.columns = [\"pz0\",\"pz1\",\"pz2\"]\n",
    "    # print([pz0,pz1,pz2])\n",
    "    pzmerge = pd.concat([pzmerge, pz])\n",
    "\n",
    "# print(pzmerge)"
   ]
  },
  {
   "cell_type": "code",
   "execution_count": 334,
   "metadata": {},
   "outputs": [
    {
     "name": "stdout",
     "output_type": "stream",
     "text": [
      "      symbol        date      time                                  uuid  \\\n",
      "0       META  2022-11-05  20:13:24  d5b8c1b1-a352-488a-99a0-98084f6a425f   \n",
      "1       META  2022-11-05  18:02:00  186d471c-27a8-4e3d-a905-ab6982b32996   \n",
      "2       META  2022-11-05  18:00:00  a6e7fdb2-80ff-46ea-bd07-53f5c6416111   \n",
      "3       META  2022-11-05  16:49:01  5ff55fac-7139-46f1-bc32-30ca00379954   \n",
      "4       META  2022-11-05  11:58:00  3291b5cf-5c58-4a63-a1c0-db633b9ba218   \n",
      "...      ...         ...       ...                                   ...   \n",
      "25273   NFLX  2021-01-22  14:55:08  2e8daa5d-b22e-43de-93b1-03ef99e57857   \n",
      "25274   NFLX  2021-01-22  14:48:47  df63c55b-0ed3-432c-aa66-69911d9986e7   \n",
      "25275   NFLX  2021-01-22  14:42:59  a3db3a06-5a21-4dd7-b42b-63fbfbd48a49   \n",
      "25276   NFLX  2021-01-22  13:55:04  e9447691-d953-4025-8d04-2cdf8aaa0aa7   \n",
      "25277   NFLX  2021-01-22  13:30:00  68dfe285-a462-4765-97f9-e261b177c24a   \n",
      "\n",
      "           match  sentiment  \\\n",
      "0      13.746987  -0.458800   \n",
      "1       9.408848   0.624900   \n",
      "2      13.847881  -0.571900   \n",
      "3      11.597897   0.000000   \n",
      "4       3.993389   0.510600   \n",
      "...          ...        ...   \n",
      "25273  50.651016   0.691150   \n",
      "25274  17.759022  -0.084250   \n",
      "25275  17.065092   0.435667   \n",
      "25276  18.219120   0.669900   \n",
      "25277  18.618023   0.165490   \n",
      "\n",
      "                                                 content     pz0     pz1  \\\n",
      "0      Twitter co-founder Jack Dorsey admits he grew ...   90.79   96.72   \n",
      "1      The Fall of Big Tech Is Boosting Stock Quants ...   90.79   96.72   \n",
      "2      Meta Stock: Mr. Market Shorted Zuckerberg; Fut...   90.79   96.72   \n",
      "3      What stock investors should watch for in the m...   90.79   96.72   \n",
      "4                    Meta Lesson 1: Corporate Governance   90.79   96.72   \n",
      "...                                                  ...     ...     ...   \n",
      "25273  UBS Upgrades Disney On Streaming Strength, Val...  579.84  565.17   \n",
      "25274  This New Action Film Directed By RZA Is Now Th...  579.84  565.17   \n",
      "25275  IBM, Intel Pressure Stocks Along With Worry Ab...  579.84  565.17   \n",
      "25276  Did You Miss This Valuable Info in Netflix's L...  579.84  565.17   \n",
      "25277  Netflix Beat Subscriber Expectations by Return...  579.84  565.17   \n",
      "\n",
      "          pz2  \n",
      "0       96.47  \n",
      "1       96.47  \n",
      "2       96.47  \n",
      "3       96.47  \n",
      "4       96.47  \n",
      "...       ...  \n",
      "25273  556.78  \n",
      "25274  556.78  \n",
      "25275  556.78  \n",
      "25276  556.78  \n",
      "25277  556.78  \n",
      "\n",
      "[25278 rows x 10 columns]\n"
     ]
    }
   ],
   "source": [
    "df = news.reset_index(drop=True)\n",
    "df1 = pzmerge.reset_index(drop=True)\n",
    "merge = pd.concat([df,df1], axis = 1)\n",
    "print(merge)\n",
    "merge.to_csv(\"../data/merge2.csv\")"
   ]
  }
 ],
 "metadata": {
  "kernelspec": {
   "display_name": "Python 3.8.13 ('IDS')",
   "language": "python",
   "name": "python3"
  },
  "language_info": {
   "codemirror_mode": {
    "name": "ipython",
    "version": 3
   },
   "file_extension": ".py",
   "mimetype": "text/x-python",
   "name": "python",
   "nbconvert_exporter": "python",
   "pygments_lexer": "ipython3",
   "version": "3.8.13"
  },
  "orig_nbformat": 4,
  "vscode": {
   "interpreter": {
    "hash": "6c5319918c1df56bbc8425fc11a4113500c53384b36f54418b1e7926749cda2f"
   }
  }
 },
 "nbformat": 4,
 "nbformat_minor": 2
}
