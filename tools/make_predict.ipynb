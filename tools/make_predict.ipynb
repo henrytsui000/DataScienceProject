{
 "cells": [
  {
   "cell_type": "code",
   "execution_count": 84,
   "metadata": {},
   "outputs": [],
   "source": [
    "import pandas as pd\n",
    "import numpy as np\n",
    "from tqdm import tqdm\n",
    "import datetime as dt\n",
    "import time"
   ]
  },
  {
   "cell_type": "code",
   "execution_count": 85,
   "metadata": {},
   "outputs": [],
   "source": [
    "news = pd.read_csv(\"../data/news.csv\")\n",
    "price = pd.read_csv(\"../data/stock.csv\")"
   ]
  },
  {
   "cell_type": "code",
   "execution_count": 86,
   "metadata": {},
   "outputs": [],
   "source": [
    "revised_news = pd.DataFrame(columns=[[\"symbol\", \"date\", \"content\", \"match\", \"sentiment\", \"score\"]])"
   ]
  },
  {
   "cell_type": "code",
   "execution_count": 87,
   "metadata": {},
   "outputs": [],
   "source": [
    "for title in [\"symbol\",\"content\", \"match\", \"sentiment\"]:\n",
    "    revised_news[title] = news[title]\n",
    "revised_news[\"score\"] = news[\"match\"] * news[\"sentiment\"]\n",
    "revised_news[\"date\"] = pd.to_datetime(news['date']) + pd.to_timedelta(news['time'])"
   ]
  },
  {
   "cell_type": "code",
   "execution_count": 88,
   "metadata": {},
   "outputs": [
    {
     "name": "stderr",
     "output_type": "stream",
     "text": [
      "25278it [01:16, 330.83it/s]\n"
     ]
    }
   ],
   "source": [
    "close_time_USTime = 16\n",
    "close_time_UTC0 = close_time_USTime+5\n",
    "shift = 24-close_time_UTC0\n",
    "price_merge = pd.DataFrame()\n",
    "usdatecol = pd.DataFrame()\n",
    "for idx, new in tqdm(news.iterrows()):\n",
    "    date = new[\"date\"]      # UTC+0\n",
    "    times = new[\"time\"]\n",
    "    match =new[\"match\"]\n",
    "    senti = new[\"sentiment\"]\n",
    "    cb = date +\" \"+ times\n",
    "    usdate = dt.datetime.strptime(cb, '%Y-%m-%d %H:%M:%S')\n",
    "    usdate += dt.timedelta(hours=shift)\n",
    "    usdateindex = dt.datetime.strftime(usdate,'%Y-%m-%d')   # shift UTC+0 time to match 00:01 open and 24:00 close \n",
    "    usdateindex_series = pd.Series(usdateindex)\n",
    "    usdatecol = pd.concat([usdatecol, usdateindex_series])\n",
    "    symbol = new[\"symbol\"].lower()\n",
    "    symbol = symbol if not symbol == \"googl\" else \"goog\"\n",
    "    dtformat = dt.datetime.strptime(usdateindex, '%Y-%m-%d').date()    \n",
    "    while True:\n",
    "        if price['Date'].eq(usdateindex).any():\n",
    "            break\n",
    "        else:\n",
    "            dtformat+=dt.timedelta(days=1)      #choose news between 00:00 to 23:59 in usdateindex date\n",
    "            usdateindex = dt.datetime.strftime(dtformat,'%Y-%m-%d')     #update usdateindex\n",
    "    row = price[price[\"Date\"]==usdateindex]\n",
    "    pre0dprice = price.iloc[row.index][[symbol]]\n",
    "    pre1dprice = price.iloc[row.index-1][[symbol]]\n",
    "    pre2dprice = price.iloc[row.index-2][[symbol]]\n",
    "    pre3dprice = price.iloc[row.index-3][[symbol]]\n",
    "    nextprice = price.iloc[row.index+1][[symbol]]\n",
    "    pz = pd.concat([pre3dprice,pre2dprice,pre1dprice,pre0dprice,nextprice]).T\n",
    "    pz.columns = [\"pre3dprice\",\"pre2dprice\",\"pre1dprice\",\"pre0dprice\",\"nextprice\"]\n",
    "    price_merge = pd.concat([price_merge, pz])"
   ]
  },
  {
   "cell_type": "code",
   "execution_count": 89,
   "metadata": {},
   "outputs": [],
   "source": [
    "usdatecol.reset_index(level=0, inplace=True)\n",
    "revised_news[\"date\"] = usdatecol[0]"
   ]
  },
  {
   "cell_type": "code",
   "execution_count": 90,
   "metadata": {},
   "outputs": [],
   "source": [
    "def return_price(df,nxt,now):\n",
    "    return (df[nxt]-df[now])/df[now]"
   ]
  },
  {
   "cell_type": "code",
   "execution_count": 91,
   "metadata": {},
   "outputs": [],
   "source": [
    "revised_news = revised_news.reset_index(drop=True)\n",
    "revised_news.columns = [x[0] for x in revised_news.columns]\n",
    "price_merge = price_merge.reset_index(drop=True)\n",
    "merge = pd.concat([revised_news,price_merge], axis=1)\n",
    "pre2dreturn = return_price(merge, \"pre2dprice\", \"pre3dprice\")\n",
    "pre1dreturn = return_price(merge, \"pre1dprice\", \"pre2dprice\")\n",
    "pre0dreturn = return_price(merge, \"pre0dprice\", \"pre2dprice\")\n",
    "nextreturn = return_price(merge, \"nextprice\", \"pre0dprice\")\n",
    "ret = pd.concat([pre2dreturn,pre1dreturn,pre0dreturn,nextreturn],axis = 1)\n",
    "ret.columns = [\"pre2dreturn\",\"pre1dreturn\",\"pre0dreturn\",\"nextreturn\"]\n",
    "merge = pd.concat([merge,ret],axis = 1)\n",
    "merge.drop([\"pre3dprice\",\"pre2dprice\",\"pre1dprice\",\"pre0dprice\",\"nextprice\"], axis=1, inplace=True)"
   ]
  },
  {
   "cell_type": "code",
   "execution_count": 95,
   "metadata": {},
   "outputs": [],
   "source": [
    "merge.to_csv(\"../data/predict_dataset.csv\",index=False)"
   ]
  },
  {
   "cell_type": "code",
   "execution_count": null,
   "metadata": {},
   "outputs": [],
   "source": []
  }
 ],
 "metadata": {
  "kernelspec": {
   "display_name": "IDS",
   "language": "python",
   "name": "python3"
  },
  "language_info": {
   "codemirror_mode": {
    "name": "ipython",
    "version": 3
   },
   "file_extension": ".py",
   "mimetype": "text/x-python",
   "name": "python",
   "nbconvert_exporter": "python",
   "pygments_lexer": "ipython3",
   "version": "3.8.13 (default, Oct 21 2022, 23:50:54) \n[GCC 11.2.0]"
  },
  "vscode": {
   "interpreter": {
    "hash": "6c5319918c1df56bbc8425fc11a4113500c53384b36f54418b1e7926749cda2f"
   }
  }
 },
 "nbformat": 4,
 "nbformat_minor": 2
}
