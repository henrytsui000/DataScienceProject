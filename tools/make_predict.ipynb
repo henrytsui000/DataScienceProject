{
 "cells": [
  {
   "cell_type": "code",
   "execution_count": 3,
   "metadata": {},
   "outputs": [],
   "source": [
    "import pandas as pd\n",
    "import numpy as np\n",
    "from tqdm import tqdm\n",
    "import datetime as dt\n",
    "import time"
   ]
  },
  {
   "cell_type": "code",
   "execution_count": 4,
   "metadata": {},
   "outputs": [],
   "source": [
    "news = pd.read_csv(\"../data/news.csv\")\n",
    "price = pd.read_csv(\"../data/stock.csv\")"
   ]
  },
  {
   "cell_type": "code",
   "execution_count": 5,
   "metadata": {},
   "outputs": [
    {
     "name": "stdout",
     "output_type": "stream",
     "text": [
      "      symbol        date      time                                  uuid  \\\n",
      "0       META  2022-11-05  20:13:24  d5b8c1b1-a352-488a-99a0-98084f6a425f   \n",
      "1       META  2022-11-05  18:02:00  186d471c-27a8-4e3d-a905-ab6982b32996   \n",
      "2       META  2022-11-05  18:00:00  a6e7fdb2-80ff-46ea-bd07-53f5c6416111   \n",
      "3       META  2022-11-05  16:49:01  5ff55fac-7139-46f1-bc32-30ca00379954   \n",
      "4       META  2022-11-05  11:58:00  3291b5cf-5c58-4a63-a1c0-db633b9ba218   \n",
      "...      ...         ...       ...                                   ...   \n",
      "25273   NFLX  2021-01-22  14:55:08  2e8daa5d-b22e-43de-93b1-03ef99e57857   \n",
      "25274   NFLX  2021-01-22  14:48:47  df63c55b-0ed3-432c-aa66-69911d9986e7   \n",
      "25275   NFLX  2021-01-22  14:42:59  a3db3a06-5a21-4dd7-b42b-63fbfbd48a49   \n",
      "25276   NFLX  2021-01-22  13:55:04  e9447691-d953-4025-8d04-2cdf8aaa0aa7   \n",
      "25277   NFLX  2021-01-22  13:30:00  68dfe285-a462-4765-97f9-e261b177c24a   \n",
      "\n",
      "           match  sentiment                                            content  \n",
      "0      13.746987  -0.458800  Twitter co-founder Jack Dorsey admits he grew ...  \n",
      "1       9.408848   0.624900  The Fall of Big Tech Is Boosting Stock Quants ...  \n",
      "2      13.847881  -0.571900  Meta Stock: Mr. Market Shorted Zuckerberg; Fut...  \n",
      "3      11.597897   0.000000  What stock investors should watch for in the m...  \n",
      "4       3.993389   0.510600                Meta Lesson 1: Corporate Governance  \n",
      "...          ...        ...                                                ...  \n",
      "25273  50.651016   0.691150  UBS Upgrades Disney On Streaming Strength, Val...  \n",
      "25274  17.759022  -0.084250  This New Action Film Directed By RZA Is Now Th...  \n",
      "25275  17.065092   0.435667  IBM, Intel Pressure Stocks Along With Worry Ab...  \n",
      "25276  18.219120   0.669900  Did You Miss This Valuable Info in Netflix's L...  \n",
      "25277  18.618023   0.165490  Netflix Beat Subscriber Expectations by Return...  \n",
      "\n",
      "[25278 rows x 7 columns]\n"
     ]
    }
   ],
   "source": [
    "print(news)"
   ]
  },
  {
   "cell_type": "code",
   "execution_count": 42,
   "metadata": {},
   "outputs": [],
   "source": [
    "revised_news = pd.DataFrame(columns=[[\"symbol\", \"date\", \"content\", \"match\", \"sentiment\", \"score\"]])"
   ]
  },
  {
   "cell_type": "code",
   "execution_count": 43,
   "metadata": {},
   "outputs": [],
   "source": [
    "for title in [\"symbol\",\"content\", \"match\", \"sentiment\"]:\n",
    "    revised_news[title] = news[title]\n",
    "revised_news[\"score\"] = news[\"match\"] * news[\"sentiment\"]\n",
    "revised_news[\"date\"] = pd.to_datetime(news['date']) + pd.to_timedelta(news['time'])"
   ]
  },
  {
   "cell_type": "code",
   "execution_count": 44,
   "metadata": {},
   "outputs": [
    {
     "name": "stderr",
     "output_type": "stream",
     "text": [
      "25278it [02:16, 185.66it/s]\n"
     ]
    }
   ],
   "source": [
    "close_time_USTime = 16\n",
    "close_time_UTC0 = close_time_USTime+5\n",
    "shift = 24-close_time_UTC0\n",
    "price_merge = pd.DataFrame()\n",
    "usdatecol = pd.DataFrame()\n",
    "for idx, new in tqdm(news.iterrows()):\n",
    "    date = new[\"date\"]      # UTC+0\n",
    "    times = new[\"time\"]\n",
    "    match =new[\"match\"]\n",
    "    senti = new[\"sentiment\"]\n",
    "    cb = date +\" \"+ times\n",
    "    usdate = dt.datetime.strptime(cb, '%Y-%m-%d %H:%M:%S')\n",
    "    usdate += dt.timedelta(hours=shift)\n",
    "    usdateindex = dt.datetime.strftime(usdate,'%Y-%m-%d')   # shift UTC+0 time to match 00:01 open and 24:00 close \n",
    "    usdateindex_series = pd.Series(usdateindex)\n",
    "    usdatecol = pd.concat([usdatecol, usdateindex_series])\n",
    "    symbol = new[\"symbol\"].lower()\n",
    "    symbol = symbol if not symbol == \"googl\" else \"goog\"\n",
    "    dtformat = dt.datetime.strptime(usdateindex, '%Y-%m-%d').date()    \n",
    "    while True:\n",
    "        if price['Date'].eq(usdateindex).any():\n",
    "            break\n",
    "        else:\n",
    "            dtformat+=dt.timedelta(days=1)      #choose news between 00:00 to 23:59 in usdateindex date\n",
    "            usdateindex = dt.datetime.strftime(dtformat,'%Y-%m-%d')     #update usdateindex\n",
    "    row = price[price[\"Date\"]==usdateindex]\n",
    "    pre0dprice = price.iloc[row.index][[symbol]]\n",
    "    pre1dprice = price.iloc[row.index-1][[symbol]]\n",
    "    pre2dprice = price.iloc[row.index-2][[symbol]]\n",
    "    pre3dprice = price.iloc[row.index-3][[symbol]]\n",
    "    nextprice = price.iloc[row.index+1][[symbol]]\n",
    "    pz = pd.concat([pre3dprice,pre2dprice,pre1dprice,pre0dprice,nextprice]).T\n",
    "    pz.columns = [\"pre3dprice\",\"pre2dprice\",\"pre1dprice\",\"pre0dprice\",\"nextprice\"]\n",
    "    price_merge = pd.concat([price_merge, pz])"
   ]
  },
  {
   "cell_type": "code",
   "execution_count": 45,
   "metadata": {},
   "outputs": [],
   "source": [
    "usdatecol.reset_index(level=0, inplace=True)\n",
    "revised_news[\"date\"] = usdatecol[0]"
   ]
  },
  {
   "cell_type": "code",
   "execution_count": 46,
   "metadata": {},
   "outputs": [],
   "source": [
    "def return_price(df,nxt,now):\n",
    "    return (df[nxt]-df[now])*100/df[now]"
   ]
  },
  {
   "cell_type": "code",
   "execution_count": 47,
   "metadata": {},
   "outputs": [],
   "source": [
    "revised_news = revised_news.reset_index(drop=True)\n",
    "revised_news.columns = [x[0] for x in revised_news.columns]\n",
    "price_merge = price_merge.reset_index(drop=True)\n",
    "merge = pd.concat([revised_news,price_merge], axis=1)\n",
    "pre2dreturn = return_price(merge, \"pre2dprice\", \"pre3dprice\")\n",
    "pre1dreturn = return_price(merge, \"pre1dprice\", \"pre2dprice\")\n",
    "pre0dreturn = return_price(merge, \"pre0dprice\", \"pre1dprice\")\n",
    "nextreturn = return_price(merge, \"nextprice\", \"pre0dprice\")\n",
    "ret = pd.concat([pre2dreturn,pre1dreturn,pre0dreturn,nextreturn],axis = 1)\n",
    "ret.columns = [\"pre2dreturn\",\"pre1dreturn\",\"pre0dreturn\",\"nextreturn\"]\n",
    "merge = pd.concat([merge,ret],axis = 1)\n",
    "merge.drop([\"pre3dprice\",\"pre2dprice\",\"pre1dprice\",\"pre0dprice\",\"nextprice\"], axis=1, inplace=True)"
   ]
  },
  {
   "cell_type": "code",
   "execution_count": 48,
   "metadata": {},
   "outputs": [],
   "source": [
    "merge.to_csv(\"../data/predict_dataset.csv\",index=False)"
   ]
  },
  {
   "cell_type": "code",
   "execution_count": null,
   "metadata": {},
   "outputs": [],
   "source": []
  }
 ],
 "metadata": {
  "kernelspec": {
   "display_name": "IDS",
   "language": "python",
   "name": "python3"
  },
  "language_info": {
   "codemirror_mode": {
    "name": "ipython",
    "version": 3
   },
   "file_extension": ".py",
   "mimetype": "text/x-python",
   "name": "python",
   "nbconvert_exporter": "python",
   "pygments_lexer": "ipython3",
   "version": "3.8.13"
  },
  "vscode": {
   "interpreter": {
    "hash": "6c5319918c1df56bbc8425fc11a4113500c53384b36f54418b1e7926749cda2f"
   }
  }
 },
 "nbformat": 4,
 "nbformat_minor": 2
}
