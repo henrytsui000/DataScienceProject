{
 "cells": [
  {
   "cell_type": "code",
   "execution_count": 26,
   "metadata": {},
   "outputs": [
    {
     "data": {
      "text/plain": [
       "True"
      ]
     },
     "execution_count": 26,
     "metadata": {},
     "output_type": "execute_result"
    }
   ],
   "source": [
    "import requests\n",
    "import json\n",
    "import os\n",
    "from dotenv import load_dotenv\n",
    "import datetime as dt\n",
    "load_dotenv()"
   ]
  },
  {
   "cell_type": "code",
   "execution_count": 58,
   "metadata": {},
   "outputs": [
    {
     "name": "stdout",
     "output_type": "stream",
     "text": [
      "2022-09-29\n"
     ]
    }
   ],
   "source": [
    "TOKEN = os.getenv('TOKEN')\n",
    "API_site = \"https://api.marketaux.com/v1/news/all\"\n",
    "others_setting = \"filter_entities=true&language=en\"\n",
    "yesterday = dt.datetime.now() - dt.timedelta(10)\n",
    "yesterday = dt.datetime.strftime(yesterday, '%Y-%m-%d')\n",
    "print(yesterday)"
   ]
  },
  {
   "cell_type": "code",
   "execution_count": 65,
   "metadata": {},
   "outputs": [],
   "source": [
    "symbols = [\"META\", \"AMAZ\", \"AAPL\", \"NFLX\", \"GOOGL\"]\n",
    "symbols = [\"META\"]\n",
    "stocknews = dict()\n",
    "for symbol in symbols:\n",
    "    reqstr = f'{API_site}?symbols={symbol}&{others_setting}&published_before={yesterday}&api_token={TOKEN}'\n",
    "    data = requests.get(reqstr, timeout=2.50)\n",
    "    stocknews[symbol] = json.loads(data.text)"
   ]
  },
  {
   "cell_type": "code",
   "execution_count": 66,
   "metadata": {},
   "outputs": [
    {
     "name": "stdout",
     "output_type": "stream",
     "text": [
      "{'meta': {'found': 1682, 'returned': 3, 'limit': 3, 'page': 1}, 'data': [{'uuid': '1e8e9706-779f-473d-a981-241454b870b5', 'title': 'Move over, TikTok: Social media has ‘a new king in town’ in BeReal', 'description': \"Facebook, Instagram, and Snapchat have been sweating the effects of TikTok's ascent, but now it seems that have another upstart rival to worry about.\", 'keywords': 'article_normal, Computers/Consumer Electronics, Software, Applications Software, Computer Services, Market Research/Public Relations, Public Relations, Internet Search Engines, Advertising/Marketing/Public Relations, Cloud Computing, Business/Consumer Services, Computing, Data Services, Internet/Online Services, Media/Entertainment, Mobile Applications Software, Social Media Platforms/Tools, Technology, Corporate/Industrial News, Political/General News, Living/Lifestyle, Personal Technology, corporate, industrial news, political, general news, living, lifestyle, personal technology, computers, consumer electronics, software, applications software, computer services, market research, public relations, internet search engines, advertising, marketing, cloud computing, business, consumer services, computing, data services, internet, online services, media, entertainment, mobile applications software, social media platforms, tools, technology', 'snippet': 'Instagram and Snapchat have been sweating the effects of TikTok’s ascent, but now it seems they have another upstart rival to worry about.\\n\\nBeReal, which bill...', 'url': 'https://www.marketwatch.com/story/move-over-tiktok-social-media-has-a-new-king-in-town-in-bereal-11664403748', 'image_url': 'https://images.mktw.net/im-633169/social', 'language': 'en', 'published_at': '2022-09-28T23:22:00.000000Z', 'source': 'marketwatch.com', 'relevance_score': None, 'entities': [{'symbol': 'META', 'name': 'Meta Platforms Inc', 'exchange': 'NASDAQ', 'exchange_long': 'NASDAQ Stock Exchange', 'country': 'us', 'type': 'equity', 'industry': 'Communication Services', 'match_score': 14.569147, 'sentiment_score': 0.9403, 'highlights': [{'highlight': 'While apps like <em>Meta</em> <em>Platforms</em> <em>Inc</em>.’s META, +5.36% Instagram encourage users to post curated photos and videos to their feeds, social-media users also have an appreciation for apps like Snap Inc.’s SNAP, +2.97% Snapchat, through which people share photos of themselves making funny faces and using cheesy filters.', 'sentiment': 0.9403, 'highlighted_in': 'main_text'}]}], 'similar': []}, {'uuid': '41f29243-b2b1-45ac-ab41-6208bbdf5873', 'title': 'This Is What Whales Are Betting On Meta Platforms - Meta Platforms (NASDAQ:META)', 'description': 'A whale with a lot of money to spend has taken a noticeably bearish stance on Meta Platforms. Looking at options history for Meta Platforms (NASDAQ:META) we detected 10 strange trades.', 'keywords': '', 'snippet': 'A whale with a lot of money to spend has taken a noticeably bearish stance on Meta Platforms.\\n\\nLooking at options history for Meta Platforms META we detected 10...', 'url': 'https://www.benzinga.com/markets/options/22/09/29053196/this-is-what-whales-are-betting-on-meta-platforms', 'image_url': 'https://cdn.benzinga.com/files/images/story/2022/movers_image_17979.jpeg?width=1200&height=800&fit=crop', 'language': 'en', 'published_at': '2022-09-28T14:11:56.000000Z', 'source': 'benzinga.com', 'relevance_score': None, 'entities': [{'symbol': 'META', 'name': 'Meta Platforms Inc', 'exchange': 'NASDAQ', 'exchange_long': 'NASDAQ Stock Exchange', 'country': 'us', 'type': 'equity', 'industry': 'Communication Services', 'match_score': 39.198627, 'sentiment_score': 0, 'highlights': [{'highlight': 'This Is What Whales Are Betting On Meta Platforms - Meta Platforms (<em>NASDAQ:META</em>)', 'sentiment': 0, 'highlighted_in': 'title'}]}], 'similar': []}, {'uuid': 'ca84677e-2856-4464-baad-71fbb6bb2996', 'title': 'Dow, S&P 500 set to open higher on lower yields, Apple slides', 'description': 'The Dow and S&P 500 were set to open higher on Wednesday as easing Treasury yields gently lifted rate-sensitive growth stocks, but the gains were capped by…', 'keywords': '', 'snippet': 'This advertisement has not loaded yet, but your article continues below.\\n\\nDow, S&P 500 set to open higher on lower yields, Apple slides\\n\\nArticle content The Dow...', 'url': 'https://financialpost.com/pmn/business-pmn/dow-sp-500-set-to-open-higher-on-lower-yields-apple-slides', 'image_url': 'https://dcs-static.gprod.postmedia.digital/12.0.2/websites/images/fp/favicon-fp.ico', 'language': 'en', 'published_at': '2022-09-28T13:15:48.000000Z', 'source': 'financialpost.com', 'relevance_score': None, 'entities': [{'symbol': 'META', 'name': 'Meta Platforms Inc', 'exchange': 'NASDAQ', 'exchange_long': 'NASDAQ Stock Exchange', 'country': 'us', 'type': 'equity', 'industry': 'Communication Services', 'match_score': 15.787656, 'sentiment_score': 0.296, 'highlights': [{'highlight': 'Rate-sensitive megacap growth names such as Amazon.com Inc , Microsoft Corp, <em>Meta</em> <em>Platforms</em> <em>Inc</em> and Tesla Inc edged higher 0.2% and 0.3%. Later in the day, investors will also pay attention to comments from a slew of Fed officials, including Fed Chair Jerome Powell.', 'sentiment': 0.296, 'highlighted_in': 'main_text'}]}], 'similar': []}]}\n"
     ]
    }
   ],
   "source": [
    "print(stocknews['META'])"
   ]
  },
  {
   "cell_type": "code",
   "execution_count": 47,
   "metadata": {},
   "outputs": [],
   "source": [
    "stocknews['META'] = json.loads(stocknews['META'].text)"
   ]
  },
  {
   "cell_type": "code",
   "execution_count": 69,
   "metadata": {},
   "outputs": [
    {
     "name": "stdout",
     "output_type": "stream",
     "text": [
      "2022-09-28T23:22:00.000000Z\n",
      "2022-09-28T14:11:56.000000Z\n",
      "2022-09-28T13:15:48.000000Z\n"
     ]
    }
   ],
   "source": [
    "for news in stocknews['META']['data']:\n",
    "    print(news[\"published_at\"])"
   ]
  },
  {
   "cell_type": "code",
   "execution_count": 81,
   "metadata": {},
   "outputs": [
    {
     "name": "stdout",
     "output_type": "stream",
     "text": [
      "The type of the date is now <class 'datetime.datetime'>\n",
      "The date is 2022-09-28 13:15:48\n"
     ]
    }
   ],
   "source": [
    "from datetime import datetime\n",
    "\n",
    "date_time_str = '2022-09-28T13:15:48.000000Z'\n",
    "\n",
    "date_time_obj = datetime.strptime(date_time_str, '%Y-%m-%dT%H:%M:%S.000000Z')\n",
    "\n",
    "\n",
    "print (\"The type of the date is now\",  type(date_time_obj))\n",
    "print (\"The date is\", date_time_obj)"
   ]
  },
  {
   "cell_type": "code",
   "execution_count": null,
   "metadata": {},
   "outputs": [],
   "source": []
  }
 ],
 "metadata": {
  "kernelspec": {
   "display_name": "Python 3.8.13 ('IDS')",
   "language": "python",
   "name": "python3"
  },
  "language_info": {
   "codemirror_mode": {
    "name": "ipython",
    "version": 3
   },
   "file_extension": ".py",
   "mimetype": "text/x-python",
   "name": "python",
   "nbconvert_exporter": "python",
   "pygments_lexer": "ipython3",
   "version": "3.8.13"
  },
  "orig_nbformat": 4,
  "vscode": {
   "interpreter": {
    "hash": "1438b0029609a2fc59bf65bc9b867ac378b6eb94b343b958122d438c6b063cf4"
   }
  }
 },
 "nbformat": 4,
 "nbformat_minor": 2
}
