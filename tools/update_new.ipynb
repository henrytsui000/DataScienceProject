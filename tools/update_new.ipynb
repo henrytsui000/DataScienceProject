{
 "cells": [
  {
   "cell_type": "code",
   "execution_count": null,
   "metadata": {},
   "outputs": [],
   "source": [
    "import requests\n",
    "import json\n",
    "import os\n",
    "from dotenv import load_dotenv\n",
    "import pandas as pd\n",
    "import datetime as dt\n",
    "from tqdm import trange\n",
    "from IPython.display import clear_output\n",
    "import time\n",
    "\n",
    "load_dotenv()"
   ]
  },
  {
   "cell_type": "code",
   "execution_count": null,
   "metadata": {},
   "outputs": [],
   "source": [
    "TOKEN = os.getenv('TOKEN')\n",
    "try:\n",
    "    news = pd.read_csv(\"../data/News/news.csv\")\n",
    "except FileNotFoundError:\n",
    "    news = pd.DataFrame(columns=[\"symbol\",\"date\",\"time\",\"uuid\",\"match\",\"sentiment\",\"content\"])\n",
    "API_site = \"https://api.marketaux.com/v1/news/all\"\n",
    "others_setting = \"filter_entities=true&language=en\"\n",
    "symbols = [\"META\", \"AMZN\", \"AAPL\", \"NFLX\", \"GOOGL\"]\n",
    "stocknews = dict()"
   ]
  },
  {
   "cell_type": "code",
   "execution_count": null,
   "metadata": {},
   "outputs": [],
   "source": [
    "if news.shape[0] == 0:\n",
    "    last_day = 0\n",
    "else :\n",
    "    last_day = news[\"date\"].sort_values(ascending=True).iloc[0]\n",
    "    last_day = dt.date.today() - dt.datetime.strptime(last_day,  \"%Y-%m-%d\").date()\n",
    "    last_day = last_day.days\n",
    "print(last_day)"
   ]
  },
  {
   "cell_type": "code",
   "execution_count": null,
   "metadata": {},
   "outputs": [],
   "source": [
    "def update_news(news, stocknews):\n",
    "    news_dict = dict()\n",
    "    for symbol, stocknew in stocknews.items():\n",
    "        if \"error\" in stocknew:\n",
    "            return False, news\n",
    "        for new_info in stocknew[\"data\"]:\n",
    "            news_dict[\"symbol\"] = symbol\n",
    "            news_dict[\"uuid\"] = uuid = new_info[\"uuid\"]\n",
    "            news_dict[\"content\"] = new_info[\"title\"]\n",
    "            time = dt.datetime.strptime(new_info[\"published_at\"], '%Y-%m-%dT%H:%M:%S.000000Z')\n",
    "            news_dict[\"date\"] = dt.datetime.strftime(time, \"%Y-%m-%d\")\n",
    "            news_dict[\"time\"] = dt.datetime.strftime(time, \"%H:%M:%S\")\n",
    "            score = new_info[\"entities\"][0]\n",
    "            news_dict[\"match\"] = score[\"match_score\"]\n",
    "            news_dict[\"sentiment\"] = score[\"sentiment_score\"]\n",
    "            df_news_dict = pd.DataFrame([news_dict])\n",
    "            if not news[\"uuid\"].str.contains(uuid).any():\n",
    "                news = pd.concat([news, df_news_dict], ignore_index=True)\n",
    "    return True, news"
   ]
  },
  {
   "cell_type": "code",
   "execution_count": null,
   "metadata": {},
   "outputs": [],
   "source": [
    "day = last_day\n",
    "while True:\n",
    "    yesterday = dt.datetime.now() - dt.timedelta(day)\n",
    "    yesterday = dt.datetime.strftime(yesterday, '%Y-%m-%d')\n",
    "    clear_output(wait=True)\n",
    "    for symbol in symbols:\n",
    "        reqstr = f'{API_site}?symbols={symbol}&{others_setting}&published_before={yesterday}&api_token={TOKEN}'\n",
    "        data = requests.get(reqstr, timeout=5)\n",
    "        stocknews[symbol] = json.loads(data.text)\n",
    "    flag, news = update_news(news, stocknews)\n",
    "    print(yesterday)\n",
    "    print(stocknews)\n",
    "    day += 1\n",
    "    time.sleep(0.5)\n",
    "    if not flag:\n",
    "        break"
   ]
  },
  {
   "cell_type": "code",
   "execution_count": null,
   "metadata": {},
   "outputs": [],
   "source": [
    "print(stocknews)"
   ]
  },
  {
   "cell_type": "code",
   "execution_count": null,
   "metadata": {},
   "outputs": [],
   "source": [
    "print(news)\n",
    "news.to_csv(\"../data/news.csv\", index=0)"
   ]
  },
  {
   "cell_type": "code",
   "execution_count": null,
   "metadata": {},
   "outputs": [],
   "source": [
    "import datetime\n",
    "from datetime import timezone\n",
    "print(datetime.datetime.now())\n",
    "print(datetime.datetime.now(timezone.utc))"
   ]
  },
  {
   "cell_type": "code",
   "execution_count": null,
   "metadata": {},
   "outputs": [],
   "source": [
    "import pandas as pd\n",
    "dfprize = pd.read_csv(\"../data/News/news.csv\")\n",
    "print(dfprize.tail())"
   ]
  },
  {
   "cell_type": "code",
   "execution_count": null,
   "metadata": {},
   "outputs": [],
   "source": []
  }
 ],
 "metadata": {
  "kernelspec": {
   "display_name": "Python 3.8.13 ('IDS')",
   "language": "python",
   "name": "python3"
  },
  "language_info": {
   "codemirror_mode": {
    "name": "ipython",
    "version": 3
   },
   "file_extension": ".py",
   "mimetype": "text/x-python",
   "name": "python",
   "nbconvert_exporter": "python",
   "pygments_lexer": "ipython3",
   "version": "3.8.13"
  },
  "vscode": {
   "interpreter": {
    "hash": "1438b0029609a2fc59bf65bc9b867ac378b6eb94b343b958122d438c6b063cf4"
   }
  }
 },
 "nbformat": 4,
 "nbformat_minor": 2
}
