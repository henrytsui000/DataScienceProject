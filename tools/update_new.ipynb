{
 "cells": [
  {
   "cell_type": "code",
   "execution_count": 93,
   "metadata": {},
   "outputs": [
    {
     "data": {
      "text/plain": [
       "True"
      ]
     },
     "execution_count": 93,
     "metadata": {},
     "output_type": "execute_result"
    }
   ],
   "source": [
    "import requests\n",
    "import json\n",
    "import os\n",
    "from dotenv import load_dotenv\n",
    "import pandas as pd\n",
    "import datetime as dt\n",
    "load_dotenv()"
   ]
  },
  {
   "cell_type": "code",
   "execution_count": 94,
   "metadata": {},
   "outputs": [],
   "source": [
    "TOKEN = os.getenv('TOKEN')\n",
    "try:\n",
    "    news = pd.read_csv(\"../data/News/news.csv\")\n",
    "except FileNotFoundError:\n",
    "    news = pd.DataFrame(columns=[\"symbol\",\"date\",\"time\",\"uuid\",\"match\",\"sentiment\",\"content\"])\n",
    "API_site = \"https://api.marketaux.com/v1/news/all\"\n",
    "others_setting = \"filter_entities=true&language=en\"\n",
    "symbols = [\"META\", \"AMZN\", \"AAPL\", \"NFLX\", \"GOOGL\"]\n",
    "stocknews = dict()"
   ]
  },
  {
   "cell_type": "code",
   "execution_count": 95,
   "metadata": {},
   "outputs": [
    {
     "name": "stdout",
     "output_type": "stream",
     "text": [
      "31\n"
     ]
    }
   ],
   "source": [
    "if news.shape[0] == 0:\n",
    "    last_day = 0\n",
    "else :\n",
    "    last_day = news[\"date\"].sort_values(ascending=True).iloc[0]\n",
    "    last_day = dt.date.today() - dt.datetime.strptime(last_day,  \"%Y-%m-%d\").date()\n",
    "    last_day = last_day.days\n",
    "print(last_day)"
   ]
  },
  {
   "cell_type": "code",
   "execution_count": 96,
   "metadata": {},
   "outputs": [],
   "source": [
    "def update_news(news, stocknews):\n",
    "    news_dict = dict()\n",
    "    for symbol, stocknew in stocknews.items():\n",
    "        if \"error\" in stocknew:\n",
    "            return news\n",
    "        for new_info in stocknew[\"data\"]:\n",
    "            news_dict[\"symbol\"] = symbol\n",
    "            news_dict[\"uuid\"] = uuid = new_info[\"uuid\"]\n",
    "            news_dict[\"content\"] = new_info[\"title\"]\n",
    "            time = dt.datetime.strptime(new_info[\"published_at\"], '%Y-%m-%dT%H:%M:%S.000000Z')\n",
    "            news_dict[\"date\"] = dt.datetime.strftime(time, \"%Y-%m-%d\")\n",
    "            news_dict[\"time\"] = dt.datetime.strftime(time, \"%H:%M:%S\")\n",
    "            score = new_info[\"entities\"][0]\n",
    "            news_dict[\"match\"] = score[\"match_score\"]\n",
    "            news_dict[\"sentiment\"] = score[\"sentiment_score\"]\n",
    "            df_news_dict = pd.DataFrame([news_dict])\n",
    "            if not news[\"uuid\"].str.contains(uuid).any():\n",
    "                news = pd.concat([news, df_news_dict], ignore_index=True)\n",
    "    return news"
   ]
  },
  {
   "cell_type": "code",
   "execution_count": 97,
   "metadata": {},
   "outputs": [],
   "source": [
    "for day in range(last_day, last_day+18):\n",
    "    yesterday = dt.datetime.now() - dt.timedelta(day)\n",
    "    yesterday = dt.datetime.strftime(yesterday, '%Y-%m-%d')\n",
    "    for symbol in symbols:\n",
    "        reqstr = f'{API_site}?symbols={symbol}&{others_setting}&published_before={yesterday}&api_token={TOKEN}'\n",
    "        data = requests.get(reqstr, timeout=5)\n",
    "        stocknews[symbol] = json.loads(data.text)\n",
    "    news = update_news(news, stocknews)"
   ]
  },
  {
   "cell_type": "code",
   "execution_count": 98,
   "metadata": {},
   "outputs": [
    {
     "name": "stdout",
     "output_type": "stream",
     "text": [
      "    symbol        date      time                                  uuid  \\\n",
      "0     META  2022-11-02  15:00:11  92bc08cd-1214-4b13-9044-4c32beaa86c3   \n",
      "1     META  2022-11-02  15:00:10  02716d04-b261-4448-b641-d89af99abebc   \n",
      "2     META  2022-11-02  13:54:28  50f79d6a-2035-4cd6-967a-aca7a520d94f   \n",
      "3     AMZN  2022-11-02  15:18:14  a8ea05b4-cfa7-4af5-b2db-6fc7973db70e   \n",
      "4     AMZN  2022-11-02  14:27:22  7d45e0f0-3f23-48fa-9e64-b2a60053a186   \n",
      "..     ...         ...       ...                                   ...   \n",
      "493   AAPL  2022-09-24  17:45:00  4afbca91-4368-4785-b7c8-273fa090781b   \n",
      "494   NFLX  2022-09-24  05:50:10  9d934604-fcec-4bc1-aea4-4486b3a7007e   \n",
      "495  GOOGL  2022-09-24  18:01:00  a6ac1a1d-2a95-4dd2-be8b-4b10c2b700cb   \n",
      "496  GOOGL  2022-09-24  14:50:11  ef18c12a-5ce5-4a04-9196-42539be3b542   \n",
      "497  GOOGL  2022-09-24  14:00:49  65e07bb6-7684-4c8d-b452-72a7e855582a   \n",
      "\n",
      "         match  sentiment                                            content  \n",
      "0    14.812694   0.671900  FAGAN ASSOCIATES, INC. Buys 3, Sells 2 in 3rd ...  \n",
      "1    14.812694   0.671900  Top 5 3rd Quarter Trades of Matthew 25 Managem...  \n",
      "2    24.060860   0.352233   Harvard University Stock Portfolio: Top 10 Picks  \n",
      "3     9.613591   0.735100  Can Google Successfully Transform YouTube Into...  \n",
      "4    17.726799   0.588550                  10 Best Rebound Stocks To Buy Now  \n",
      "..         ...        ...                                                ...  \n",
      "493  17.024504   0.391880  These U.S. Stocks Are No-Brainer Additions to ...  \n",
      "494  12.416740   0.000000  Oscar winner Louise Fletcher dies at 88- AP By...  \n",
      "495  17.789974   0.084000  “We don’t get to choose the macroeconomic cond...  \n",
      "496  36.641266   0.058600  Alphabet CEO Pichai Continues to Sound Alarm A...  \n",
      "497  14.767288   0.250000  BUZZ Investing: Rising Sentiment for Nuclear S...  \n",
      "\n",
      "[498 rows x 7 columns]\n"
     ]
    }
   ],
   "source": [
    "print(news)\n",
    "news.to_csv(\"../data/News/news.csv\", index=0)"
   ]
  },
  {
   "cell_type": "code",
   "execution_count": null,
   "metadata": {},
   "outputs": [],
   "source": []
  }
 ],
 "metadata": {
  "kernelspec": {
   "display_name": "Python 3.8.13 ('IDS')",
   "language": "python",
   "name": "python3"
  },
  "language_info": {
   "codemirror_mode": {
    "name": "ipython",
    "version": 3
   },
   "file_extension": ".py",
   "mimetype": "text/x-python",
   "name": "python",
   "nbconvert_exporter": "python",
   "pygments_lexer": "ipython3",
   "version": "3.8.13"
  },
  "orig_nbformat": 4,
  "vscode": {
   "interpreter": {
    "hash": "1438b0029609a2fc59bf65bc9b867ac378b6eb94b343b958122d438c6b063cf4"
   }
  }
 },
 "nbformat": 4,
 "nbformat_minor": 2
}
