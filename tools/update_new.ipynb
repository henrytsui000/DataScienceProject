{
 "cells": [
  {
   "cell_type": "code",
   "execution_count": 19,
   "metadata": {},
   "outputs": [
    {
     "data": {
      "text/plain": [
       "True"
      ]
     },
     "execution_count": 19,
     "metadata": {},
     "output_type": "execute_result"
    }
   ],
   "source": [
    "import requests\n",
    "import json\n",
    "import os\n",
    "from dotenv import load_dotenv\n",
    "import pandas as pd\n",
    "import datetime as dt\n",
    "from tqdm import trange\n",
    "from IPython.display import clear_output\n",
    "import time\n",
    "\n",
    "load_dotenv()"
   ]
  },
  {
   "cell_type": "code",
   "execution_count": 20,
   "metadata": {},
   "outputs": [],
   "source": [
    "TOKEN = os.getenv('TOKEN')\n",
    "try:\n",
    "    news = pd.read_csv(\"../data/News/news.csv\")\n",
    "except FileNotFoundError:\n",
    "    news = pd.DataFrame(columns=[\"symbol\",\"date\",\"time\",\"uuid\",\"match\",\"sentiment\",\"content\"])\n",
    "API_site = \"https://api.marketaux.com/v1/news/all\"\n",
    "others_setting = \"filter_entities=true&language=en\"\n",
    "symbols = [\"META\", \"AMZN\", \"AAPL\", \"NFLX\", \"GOOGL\"]\n",
    "stocknews = dict()"
   ]
  },
  {
   "cell_type": "code",
   "execution_count": 21,
   "metadata": {},
   "outputs": [
    {
     "name": "stdout",
     "output_type": "stream",
     "text": [
      "675\n"
     ]
    }
   ],
   "source": [
    "if news.shape[0] == 0:\n",
    "    last_day = 0\n",
    "else :\n",
    "    last_day = news[\"date\"].sort_values(ascending=True).iloc[0]\n",
    "    last_day = dt.date.today() - dt.datetime.strptime(last_day,  \"%Y-%m-%d\").date()\n",
    "    last_day = last_day.days\n",
    "print(last_day)"
   ]
  },
  {
   "cell_type": "code",
   "execution_count": 22,
   "metadata": {},
   "outputs": [],
   "source": [
    "def update_news(news, stocknews):\n",
    "    news_dict = dict()\n",
    "    for symbol, stocknew in stocknews.items():\n",
    "        if \"error\" in stocknew:\n",
    "            return False, news\n",
    "        for new_info in stocknew[\"data\"]:\n",
    "            news_dict[\"symbol\"] = symbol\n",
    "            news_dict[\"uuid\"] = uuid = new_info[\"uuid\"]\n",
    "            news_dict[\"content\"] = new_info[\"title\"]\n",
    "            time = dt.datetime.strptime(new_info[\"published_at\"], '%Y-%m-%dT%H:%M:%S.000000Z')\n",
    "            news_dict[\"date\"] = dt.datetime.strftime(time, \"%Y-%m-%d\")\n",
    "            news_dict[\"time\"] = dt.datetime.strftime(time, \"%H:%M:%S\")\n",
    "            score = new_info[\"entities\"][0]\n",
    "            news_dict[\"match\"] = score[\"match_score\"]\n",
    "            news_dict[\"sentiment\"] = score[\"sentiment_score\"]\n",
    "            df_news_dict = pd.DataFrame([news_dict])\n",
    "            if not news[\"uuid\"].str.contains(uuid).any():\n",
    "                news = pd.concat([news, df_news_dict], ignore_index=True)\n",
    "    return True, news"
   ]
  },
  {
   "cell_type": "code",
   "execution_count": 27,
   "metadata": {},
   "outputs": [
    {
     "name": "stdout",
     "output_type": "stream",
     "text": [
      "2021-01-01\n",
      "{'META': {'meta': {'found': 0, 'returned': 0, 'limit': 20, 'page': 1}, 'data': []}, 'AMZN': {'meta': {'found': 0, 'returned': 0, 'limit': 20, 'page': 1}, 'data': []}, 'AAPL': {'meta': {'found': 0, 'returned': 0, 'limit': 20, 'page': 1}, 'data': []}, 'NFLX': {'meta': {'found': 0, 'returned': 0, 'limit': 20, 'page': 1}, 'data': []}, 'GOOGL': {'meta': {'found': 0, 'returned': 0, 'limit': 20, 'page': 1}, 'data': []}}\n"
     ]
    }
   ],
   "source": [
    "day = last_day\n",
    "while True:\n",
    "    yesterday = dt.datetime.now() - dt.timedelta(day)\n",
    "    yesterday = dt.datetime.strftime(yesterday, '%Y-%m-%d')\n",
    "    clear_output(wait=True)\n",
    "    for symbol in symbols:\n",
    "        reqstr = f'{API_site}?symbols={symbol}&{others_setting}&published_before={yesterday}&api_token={TOKEN}'\n",
    "        data = requests.get(reqstr, timeout=5)\n",
    "        stocknews[symbol] = json.loads(data.text)\n",
    "    flag, news = update_news(news, stocknews)\n",
    "    print(yesterday)\n",
    "    print(stocknews)\n",
    "    day += 1\n",
    "    time.sleep(0.5)\n",
    "    if not flag:\n",
    "        break"
   ]
  },
  {
   "cell_type": "code",
   "execution_count": 24,
   "metadata": {},
   "outputs": [
    {
     "name": "stdout",
     "output_type": "stream",
     "text": [
      "{'META': {'error': {'code': 'rate_limit_reached', 'message': 'The rate limit for this account has been reached.'}}, 'AMZN': {'error': {'code': 'rate_limit_reached', 'message': 'The rate limit for this account has been reached.'}}, 'AAPL': {'error': {'code': 'rate_limit_reached', 'message': 'The rate limit for this account has been reached.'}}, 'NFLX': {'error': {'code': 'rate_limit_reached', 'message': 'The rate limit for this account has been reached.'}}, 'GOOGL': {'error': {'code': 'rate_limit_reached', 'message': 'The rate limit for this account has been reached.'}}}\n"
     ]
    }
   ],
   "source": [
    "print(stocknews)"
   ]
  },
  {
   "cell_type": "code",
   "execution_count": 25,
   "metadata": {},
   "outputs": [
    {
     "name": "stdout",
     "output_type": "stream",
     "text": [
      "      symbol        date      time                                  uuid  \\\n",
      "0       META  2022-11-05  20:13:24  d5b8c1b1-a352-488a-99a0-98084f6a425f   \n",
      "1       META  2022-11-05  18:02:00  186d471c-27a8-4e3d-a905-ab6982b32996   \n",
      "2       META  2022-11-05  18:00:00  a6e7fdb2-80ff-46ea-bd07-53f5c6416111   \n",
      "3       META  2022-11-05  16:49:01  5ff55fac-7139-46f1-bc32-30ca00379954   \n",
      "4       META  2022-11-05  11:58:00  3291b5cf-5c58-4a63-a1c0-db633b9ba218   \n",
      "...      ...         ...       ...                                   ...   \n",
      "25351   AAPL  2021-01-03  19:01:04  1010b8bc-0105-4ed9-b56b-31533c81fdd0   \n",
      "25352   AAPL  2021-01-02  16:25:30  6f6996d1-a498-4e8f-bed0-62572a15c2cc   \n",
      "25353   AAPL  2021-01-02  13:47:42  766027ce-309e-475d-83d2-1966cdad2c86   \n",
      "25354   AAPL  2021-01-01  15:09:03  184fc4c7-906d-4b99-a79a-2b64135dadf4   \n",
      "25355   AAPL  2021-01-01  11:35:35  6bb734eb-11ef-40f0-b839-022622434f4c   \n",
      "\n",
      "           match  sentiment                                            content  \n",
      "0      13.746987   -0.45880  Twitter co-founder Jack Dorsey admits he grew ...  \n",
      "1       9.408848    0.62490  The Fall of Big Tech Is Boosting Stock Quants ...  \n",
      "2      13.847881   -0.57190  Meta Stock: Mr. Market Shorted Zuckerberg; Fut...  \n",
      "3      11.597897    0.00000  What stock investors should watch for in the m...  \n",
      "4       3.993389    0.51060                Meta Lesson 1: Corporate Governance  \n",
      "...          ...        ...                                                ...  \n",
      "25351  39.555225    0.70030  World's 4th Largest Automaker Set To Take Shap...  \n",
      "25352  30.110111    0.35480  Benzinga's Final Bulls And Bears Of The Year: ...  \n",
      "25353  48.402897    0.38520  Apple iPhone Christmas Sales Smash Expectation...  \n",
      "25354  36.130905    0.47715  Apple Stock: Buy, Sell, or Hold After Soaring ...  \n",
      "25355  38.455444    0.66160  Apple, Best Stock Of 2020, Surges Into New Yea...  \n",
      "\n",
      "[25356 rows x 7 columns]\n"
     ]
    }
   ],
   "source": [
    "print(news)\n",
    "news.to_csv(\"../data/News/news.csv\", index=0)"
   ]
  },
  {
   "cell_type": "code",
   "execution_count": null,
   "metadata": {},
   "outputs": [],
   "source": []
  }
 ],
 "metadata": {
  "kernelspec": {
   "display_name": "Python 3.8.13 ('IDS')",
   "language": "python",
   "name": "python3"
  },
  "language_info": {
   "codemirror_mode": {
    "name": "ipython",
    "version": 3
   },
   "file_extension": ".py",
   "mimetype": "text/x-python",
   "name": "python",
   "nbconvert_exporter": "python",
   "pygments_lexer": "ipython3",
   "version": "3.8.13"
  },
  "orig_nbformat": 4,
  "vscode": {
   "interpreter": {
    "hash": "1438b0029609a2fc59bf65bc9b867ac378b6eb94b343b958122d438c6b063cf4"
   }
  }
 },
 "nbformat": 4,
 "nbformat_minor": 2
}
