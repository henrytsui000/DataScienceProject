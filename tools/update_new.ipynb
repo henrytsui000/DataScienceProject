{
 "cells": [
  {
   "cell_type": "code",
   "execution_count": 1,
   "metadata": {},
   "outputs": [
    {
     "data": {
      "text/plain": [
       "False"
      ]
     },
     "execution_count": 1,
     "metadata": {},
     "output_type": "execute_result"
    }
   ],
   "source": [
    "import requests\n",
    "import json\n",
    "import os\n",
    "from dotenv import load_dotenv\n",
    "import pandas as pd\n",
    "import datetime as dt\n",
    "from tqdm import trange\n",
    "from IPython.display import clear_output\n",
    "import time\n",
    "\n",
    "load_dotenv()"
   ]
  },
  {
   "cell_type": "code",
   "execution_count": 20,
   "metadata": {},
   "outputs": [],
   "source": [
    "TOKEN = os.getenv('TOKEN')\n",
    "try:\n",
    "    news = pd.read_csv(\"../data/News/news.csv\")\n",
    "except FileNotFoundError:\n",
    "    news = pd.DataFrame(columns=[\"symbol\",\"date\",\"time\",\"uuid\",\"match\",\"sentiment\",\"content\"])\n",
    "API_site = \"https://api.marketaux.com/v1/news/all\"\n",
    "others_setting = \"filter_entities=true&language=en\"\n",
    "symbols = [\"META\", \"AMZN\", \"AAPL\", \"NFLX\", \"GOOGL\"]\n",
    "stocknews = dict()"
   ]
  },
  {
   "cell_type": "code",
   "execution_count": 21,
   "metadata": {},
   "outputs": [
    {
     "name": "stdout",
     "output_type": "stream",
     "text": [
      "675\n"
     ]
    }
   ],
   "source": [
    "if news.shape[0] == 0:\n",
    "    last_day = 0\n",
    "else :\n",
    "    last_day = news[\"date\"].sort_values(ascending=True).iloc[0]\n",
    "    last_day = dt.date.today() - dt.datetime.strptime(last_day,  \"%Y-%m-%d\").date()\n",
    "    last_day = last_day.days\n",
    "print(last_day)"
   ]
  },
  {
   "cell_type": "code",
   "execution_count": 22,
   "metadata": {},
   "outputs": [],
   "source": [
    "def update_news(news, stocknews):\n",
    "    news_dict = dict()\n",
    "    for symbol, stocknew in stocknews.items():\n",
    "        if \"error\" in stocknew:\n",
    "            return False, news\n",
    "        for new_info in stocknew[\"data\"]:\n",
    "            news_dict[\"symbol\"] = symbol\n",
    "            news_dict[\"uuid\"] = uuid = new_info[\"uuid\"]\n",
    "            news_dict[\"content\"] = new_info[\"title\"]\n",
    "            time = dt.datetime.strptime(new_info[\"published_at\"], '%Y-%m-%dT%H:%M:%S.000000Z')\n",
    "            news_dict[\"date\"] = dt.datetime.strftime(time, \"%Y-%m-%d\")\n",
    "            news_dict[\"time\"] = dt.datetime.strftime(time, \"%H:%M:%S\")\n",
    "            score = new_info[\"entities\"][0]\n",
    "            news_dict[\"match\"] = score[\"match_score\"]\n",
    "            news_dict[\"sentiment\"] = score[\"sentiment_score\"]\n",
    "            df_news_dict = pd.DataFrame([news_dict])\n",
    "            if not news[\"uuid\"].str.contains(uuid).any():\n",
    "                news = pd.concat([news, df_news_dict], ignore_index=True)\n",
    "    return True, news"
   ]
  },
  {
   "cell_type": "code",
   "execution_count": 9,
   "metadata": {},
   "outputs": [
    {
     "ename": "NameError",
     "evalue": "name 'last_day' is not defined",
     "output_type": "error",
     "traceback": [
      "\u001b[0;31m---------------------------------------------------------------------------\u001b[0m",
      "\u001b[0;31mNameError\u001b[0m                                 Traceback (most recent call last)",
      "\u001b[1;32m/Users/lucytuan/NYCU/S5/DS/DataScienceProject/tools/update_new.ipynb Cell 5\u001b[0m in \u001b[0;36m<cell line: 1>\u001b[0;34m()\u001b[0m\n\u001b[0;32m----> <a href='vscode-notebook-cell:/Users/lucytuan/NYCU/S5/DS/DataScienceProject/tools/update_new.ipynb#W4sZmlsZQ%3D%3D?line=0'>1</a>\u001b[0m day \u001b[39m=\u001b[39m last_day\n\u001b[1;32m      <a href='vscode-notebook-cell:/Users/lucytuan/NYCU/S5/DS/DataScienceProject/tools/update_new.ipynb#W4sZmlsZQ%3D%3D?line=1'>2</a>\u001b[0m \u001b[39mwhile\u001b[39;00m \u001b[39mTrue\u001b[39;00m:\n\u001b[1;32m      <a href='vscode-notebook-cell:/Users/lucytuan/NYCU/S5/DS/DataScienceProject/tools/update_new.ipynb#W4sZmlsZQ%3D%3D?line=2'>3</a>\u001b[0m     yesterday \u001b[39m=\u001b[39m dt\u001b[39m.\u001b[39mdatetime\u001b[39m.\u001b[39mnow() \u001b[39m-\u001b[39m dt\u001b[39m.\u001b[39mtimedelta(day)\n",
      "\u001b[0;31mNameError\u001b[0m: name 'last_day' is not defined"
     ]
    }
   ],
   "source": [
    "day = last_day\n",
    "while True:\n",
    "    yesterday = dt.datetime.now() - dt.timedelta(day)\n",
    "    yesterday = dt.datetime.strftime(yesterday, '%Y-%m-%d')\n",
    "    clear_output(wait=True)\n",
    "    for symbol in symbols:\n",
    "        reqstr = f'{API_site}?symbols={symbol}&{others_setting}&published_before={yesterday}&api_token={TOKEN}'\n",
    "        data = requests.get(reqstr, timeout=5)\n",
    "        stocknews[symbol] = json.loads(data.text)\n",
    "    flag, news = update_news(news, stocknews)\n",
    "    print(yesterday)\n",
    "    print(stocknews)\n",
    "    day += 1\n",
    "    time.sleep(0.5)\n",
    "    if not flag:\n",
    "        break"
   ]
  },
  {
   "cell_type": "code",
   "execution_count": 24,
   "metadata": {},
   "outputs": [
    {
     "name": "stdout",
     "output_type": "stream",
     "text": [
      "{'META': {'error': {'code': 'rate_limit_reached', 'message': 'The rate limit for this account has been reached.'}}, 'AMZN': {'error': {'code': 'rate_limit_reached', 'message': 'The rate limit for this account has been reached.'}}, 'AAPL': {'error': {'code': 'rate_limit_reached', 'message': 'The rate limit for this account has been reached.'}}, 'NFLX': {'error': {'code': 'rate_limit_reached', 'message': 'The rate limit for this account has been reached.'}}, 'GOOGL': {'error': {'code': 'rate_limit_reached', 'message': 'The rate limit for this account has been reached.'}}}\n"
     ]
    }
   ],
   "source": [
    "print(stocknews)"
   ]
  },
  {
   "cell_type": "code",
   "execution_count": 25,
   "metadata": {},
   "outputs": [
    {
     "name": "stdout",
     "output_type": "stream",
     "text": [
      "      symbol        date      time                                  uuid  \\\n",
      "0       META  2022-11-05  20:13:24  d5b8c1b1-a352-488a-99a0-98084f6a425f   \n",
      "1       META  2022-11-05  18:02:00  186d471c-27a8-4e3d-a905-ab6982b32996   \n",
      "2       META  2022-11-05  18:00:00  a6e7fdb2-80ff-46ea-bd07-53f5c6416111   \n",
      "3       META  2022-11-05  16:49:01  5ff55fac-7139-46f1-bc32-30ca00379954   \n",
      "4       META  2022-11-05  11:58:00  3291b5cf-5c58-4a63-a1c0-db633b9ba218   \n",
      "...      ...         ...       ...                                   ...   \n",
      "25351   AAPL  2021-01-03  19:01:04  1010b8bc-0105-4ed9-b56b-31533c81fdd0   \n",
      "25352   AAPL  2021-01-02  16:25:30  6f6996d1-a498-4e8f-bed0-62572a15c2cc   \n",
      "25353   AAPL  2021-01-02  13:47:42  766027ce-309e-475d-83d2-1966cdad2c86   \n",
      "25354   AAPL  2021-01-01  15:09:03  184fc4c7-906d-4b99-a79a-2b64135dadf4   \n",
      "25355   AAPL  2021-01-01  11:35:35  6bb734eb-11ef-40f0-b839-022622434f4c   \n",
      "\n",
      "           match  sentiment                                            content  \n",
      "0      13.746987   -0.45880  Twitter co-founder Jack Dorsey admits he grew ...  \n",
      "1       9.408848    0.62490  The Fall of Big Tech Is Boosting Stock Quants ...  \n",
      "2      13.847881   -0.57190  Meta Stock: Mr. Market Shorted Zuckerberg; Fut...  \n",
      "3      11.597897    0.00000  What stock investors should watch for in the m...  \n",
      "4       3.993389    0.51060                Meta Lesson 1: Corporate Governance  \n",
      "...          ...        ...                                                ...  \n",
      "25351  39.555225    0.70030  World's 4th Largest Automaker Set To Take Shap...  \n",
      "25352  30.110111    0.35480  Benzinga's Final Bulls And Bears Of The Year: ...  \n",
      "25353  48.402897    0.38520  Apple iPhone Christmas Sales Smash Expectation...  \n",
      "25354  36.130905    0.47715  Apple Stock: Buy, Sell, or Hold After Soaring ...  \n",
      "25355  38.455444    0.66160  Apple, Best Stock Of 2020, Surges Into New Yea...  \n",
      "\n",
      "[25356 rows x 7 columns]\n"
     ]
    }
   ],
   "source": [
    "print(news)\n",
    "news.to_csv(\"../data/news.csv\", index=0)"
   ]
  },
  {
   "cell_type": "code",
   "execution_count": 1,
   "metadata": {},
   "outputs": [
    {
     "name": "stdout",
     "output_type": "stream",
     "text": [
      "2022-11-22 15:27:08.511536\n",
      "2022-11-22 07:27:08.511566+00:00\n"
     ]
    }
   ],
   "source": [
    "import datetime\n",
    "from datetime import timezone\n",
    "print(datetime.datetime.now())\n",
    "print(datetime.datetime.now(timezone.utc))"
   ]
  },
  {
   "cell_type": "code",
   "execution_count": 2,
   "metadata": {},
   "outputs": [
    {
     "name": "stdout",
     "output_type": "stream",
     "text": [
      "      symbol        date      time                                  uuid  \\\n",
      "25273   NFLX  2021-01-22  14:55:08  2e8daa5d-b22e-43de-93b1-03ef99e57857   \n",
      "25274   NFLX  2021-01-22  14:48:47  df63c55b-0ed3-432c-aa66-69911d9986e7   \n",
      "25275   NFLX  2021-01-22  14:42:59  a3db3a06-5a21-4dd7-b42b-63fbfbd48a49   \n",
      "25276   NFLX  2021-01-22  13:55:04  e9447691-d953-4025-8d04-2cdf8aaa0aa7   \n",
      "25277   NFLX  2021-01-22  13:30:00  68dfe285-a462-4765-97f9-e261b177c24a   \n",
      "\n",
      "           match  sentiment                                            content  \n",
      "25273  50.651016   0.691150  UBS Upgrades Disney On Streaming Strength, Val...  \n",
      "25274  17.759022  -0.084250  This New Action Film Directed By RZA Is Now Th...  \n",
      "25275  17.065092   0.435667  IBM, Intel Pressure Stocks Along With Worry Ab...  \n",
      "25276  18.219120   0.669900  Did You Miss This Valuable Info in Netflix's L...  \n",
      "25277  18.618023   0.165490  Netflix Beat Subscriber Expectations by Return...  \n"
     ]
    }
   ],
   "source": [
    "import pandas as pd\n",
    "dfprize = pd.read_csv(\"../data/News/news.csv\")\n",
    "print(dfprize.tail())"
   ]
  },
  {
   "cell_type": "code",
   "execution_count": null,
   "metadata": {},
   "outputs": [],
   "source": []
  }
 ],
 "metadata": {
  "kernelspec": {
   "display_name": "Python 3.8.15 ('IDS')",
   "language": "python",
   "name": "python3"
  },
  "language_info": {
   "codemirror_mode": {
    "name": "ipython",
    "version": 3
   },
   "file_extension": ".py",
   "mimetype": "text/x-python",
   "name": "python",
   "nbconvert_exporter": "python",
   "pygments_lexer": "ipython3",
   "version": "3.8.15"
  },
  "orig_nbformat": 4,
  "vscode": {
   "interpreter": {
    "hash": "72b71fc53b4852de6adbc5d800e915723fe7a4acd43f1cc6118b311d0327eb76"
   }
  }
 },
 "nbformat": 4,
 "nbformat_minor": 2
}
