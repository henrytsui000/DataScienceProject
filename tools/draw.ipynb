{
 "cells": [
  {
   "cell_type": "code",
   "execution_count": 1,
   "metadata": {},
   "outputs": [],
   "source": [
    "import ffn\n",
    "import pandas as pd\n",
    "import seaborn as sns\n",
    "import cv2\n",
    "import matplotlib.pyplot as plt\n",
    "import matplotlib\n",
    "\n",
    "import numpy as np\n",
    "\n",
    "%matplotlib inline"
   ]
  },
  {
   "cell_type": "code",
   "execution_count": 14,
   "metadata": {},
   "outputs": [],
   "source": [
    "prices = pd.read_csv(\"../data/stock.csv\", index_col=0)"
   ]
  },
  {
   "cell_type": "code",
   "execution_count": 17,
   "metadata": {},
   "outputs": [],
   "source": [
    "offset = 100\n",
    "matplotlib.use('agg') \n",
    "cnt = 0\n",
    "for i in range(-300, 0, 5):\n",
    "    heatmap = prices[i-offset:i].corr()\n",
    "    swarm_plot = sns.heatmap(heatmap, cmap=\"YlGnBu\" , vmin=-1, vmax=1)\n",
    "    fig = swarm_plot.get_figure()\n",
    "\n",
    "    fig.canvas.draw()\n",
    "    img = np.frombuffer(fig.canvas.tostring_rgb(), dtype=np.uint8)\n",
    "    img  = img.reshape(fig.canvas.get_width_height()[::-1] + (3,))\n",
    "    img = cv2.cvtColor(img,cv2.COLOR_RGB2BGR)\n",
    "\n",
    "    plt.clf()\n",
    "    cv2.imshow(\"Heatmap\", img)\n",
    "    cv2.imwrite(f\"./out/{cnt:03d}.jpg\", img)\n",
    "    cnt += 1\n",
    "    cv2.waitKey(1)\n",
    "cv2.destroyAllWindows()"
   ]
  },
  {
   "cell_type": "code",
   "execution_count": 8,
   "metadata": {},
   "outputs": [
    {
     "data": {
      "text/html": [
       "<div>\n",
       "<style scoped>\n",
       "    .dataframe tbody tr th:only-of-type {\n",
       "        vertical-align: middle;\n",
       "    }\n",
       "\n",
       "    .dataframe tbody tr th {\n",
       "        vertical-align: top;\n",
       "    }\n",
       "\n",
       "    .dataframe thead th {\n",
       "        text-align: right;\n",
       "    }\n",
       "</style>\n",
       "<table border=\"1\" class=\"dataframe\">\n",
       "  <thead>\n",
       "    <tr style=\"text-align: right;\">\n",
       "      <th></th>\n",
       "      <th>meta</th>\n",
       "      <th>amzn</th>\n",
       "      <th>aapl</th>\n",
       "      <th>nflx</th>\n",
       "      <th>goog</th>\n",
       "    </tr>\n",
       "  </thead>\n",
       "  <tbody>\n",
       "    <tr>\n",
       "      <th>meta</th>\n",
       "      <td>7724.481675</td>\n",
       "      <td>4464.690771</td>\n",
       "      <td>3461.112624</td>\n",
       "      <td>14891.455286</td>\n",
       "      <td>2783.626121</td>\n",
       "    </tr>\n",
       "    <tr>\n",
       "      <th>amzn</th>\n",
       "      <td>4464.690771</td>\n",
       "      <td>2930.625815</td>\n",
       "      <td>2376.641140</td>\n",
       "      <td>9224.234977</td>\n",
       "      <td>1791.544884</td>\n",
       "    </tr>\n",
       "    <tr>\n",
       "      <th>aapl</th>\n",
       "      <td>3461.112624</td>\n",
       "      <td>2376.641140</td>\n",
       "      <td>2269.216160</td>\n",
       "      <td>6745.628681</td>\n",
       "      <td>1634.391614</td>\n",
       "    </tr>\n",
       "    <tr>\n",
       "      <th>nflx</th>\n",
       "      <td>14891.455286</td>\n",
       "      <td>9224.234977</td>\n",
       "      <td>6745.628681</td>\n",
       "      <td>32129.398908</td>\n",
       "      <td>5347.121490</td>\n",
       "    </tr>\n",
       "    <tr>\n",
       "      <th>goog</th>\n",
       "      <td>2783.626121</td>\n",
       "      <td>1791.544884</td>\n",
       "      <td>1634.391614</td>\n",
       "      <td>5347.121490</td>\n",
       "      <td>1258.908904</td>\n",
       "    </tr>\n",
       "  </tbody>\n",
       "</table>\n",
       "</div>"
      ],
      "text/plain": [
       "              meta         amzn         aapl          nflx         goog\n",
       "meta   7724.481675  4464.690771  3461.112624  14891.455286  2783.626121\n",
       "amzn   4464.690771  2930.625815  2376.641140   9224.234977  1791.544884\n",
       "aapl   3461.112624  2376.641140  2269.216160   6745.628681  1634.391614\n",
       "nflx  14891.455286  9224.234977  6745.628681  32129.398908  5347.121490\n",
       "goog   2783.626121  1791.544884  1634.391614   5347.121490  1258.908904"
      ]
     },
     "execution_count": 8,
     "metadata": {},
     "output_type": "execute_result"
    }
   ],
   "source": [
    "prices.cov()"
   ]
  },
  {
   "cell_type": "code",
   "execution_count": 19,
   "metadata": {},
   "outputs": [],
   "source": [
    "prices = ffn.get(\"META, AMZN, AAPL, NFLX, GOOG\")"
   ]
  },
  {
   "cell_type": "code",
   "execution_count": 20,
   "metadata": {},
   "outputs": [
    {
     "name": "stderr",
     "output_type": "stream",
     "text": [
      "/var/folders/g5/4576b0tj6k3g5p1pxwxvnjq80000gn/T/ipykernel_21814/2984142291.py:1: FutureWarning: Passing additional kwargs to Rolling.mean has no impact on the result and is deprecated. This will raise a TypeError in a future version of pandas.\n",
      "  prices.rolling(10).mean(std = 5).iloc[-60:, :].rebase().plot()\n"
     ]
    },
    {
     "data": {
      "text/plain": [
       "<AxesSubplot: xlabel='Date'>"
      ]
     },
     "execution_count": 20,
     "metadata": {},
     "output_type": "execute_result"
    },
    {
     "ename": "",
     "evalue": "",
     "output_type": "error",
     "traceback": [
      "\u001b[1;31mThe Kernel crashed while executing code in the the current cell or a previous cell. Please review the code in the cell(s) to identify a possible cause of the failure. Click <a href='https://aka.ms/vscodeJupyterKernelCrash'>here</a> for more info. View Jupyter <a href='command:jupyter.viewOutput'>log</a> for further details."
     ]
    }
   ],
   "source": [
    "prices.rolling(10).mean(std = 5).iloc[-60:, :].rebase().plot()"
   ]
  },
  {
   "cell_type": "code",
   "execution_count": null,
   "metadata": {},
   "outputs": [],
   "source": []
  }
 ],
 "metadata": {
  "kernelspec": {
   "display_name": "Python 3.10.8 64-bit",
   "language": "python",
   "name": "python3"
  },
  "language_info": {
   "codemirror_mode": {
    "name": "ipython",
    "version": 3
   },
   "file_extension": ".py",
   "mimetype": "text/x-python",
   "name": "python",
   "nbconvert_exporter": "python",
   "pygments_lexer": "ipython3",
   "version": "3.10.8"
  },
  "orig_nbformat": 4,
  "vscode": {
   "interpreter": {
    "hash": "b0fa6594d8f4cbf19f97940f81e996739fb7646882a419484c72d19e05852a7e"
   }
  }
 },
 "nbformat": 4,
 "nbformat_minor": 2
}
