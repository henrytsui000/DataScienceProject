{
 "cells": [
  {
   "cell_type": "code",
   "execution_count": 1,
   "metadata": {},
   "outputs": [
    {
     "name": "stderr",
     "output_type": "stream",
     "text": [
      "/home/henrytsui/anaconda3/envs/IDS/lib/python3.8/site-packages/tqdm/auto.py:22: TqdmWarning: IProgress not found. Please update jupyter and ipywidgets. See https://ipywidgets.readthedocs.io/en/stable/user_install.html\n",
      "  from .autonotebook import tqdm as notebook_tqdm\n"
     ]
    }
   ],
   "source": [
    "import torch\n",
    "from torch.utils.data import Dataset, DataLoader\n",
    "from torch import nn\n",
    "import torch.nn.functional as F\n",
    "from torchsummary import summary\n",
    "from transformers import BertModel, BertTokenizer\n",
    "from tqdm import tqdm\n",
    "import numpy as np\n",
    "import pandas as pd\n",
    "from sklearn.utils import shuffle\n",
    "from tensorboardX import SummaryWriter\n",
    "from IPython.display import clear_output\n"
   ]
  },
  {
   "cell_type": "code",
   "execution_count": 2,
   "metadata": {},
   "outputs": [],
   "source": [
    "BERT_PATH = 'bert-base-uncased'\n",
    "MAX_LEN = 64\n",
    "DEVICE = \"cuda\"\n",
    "BZ = 128\n",
    "WD = 1e-9\n",
    "LR = 1e-5\n",
    "EPS = 50\n",
    "TMAX = 15\n",
    "COMMENT = f\"lr{LR}-B{BZ}-EPS{EPS}-TOU{TMAX}\""
   ]
  },
  {
   "cell_type": "code",
   "execution_count": 15,
   "metadata": {},
   "outputs": [],
   "source": [
    "merge = pd.read_csv(\"../data/new_pred.csv\")"
   ]
  },
  {
   "cell_type": "code",
   "execution_count": 27,
   "metadata": {},
   "outputs": [
    {
     "name": "stdout",
     "output_type": "stream",
     "text": [
      "(25278, 2)\n"
     ]
    }
   ],
   "source": [
    "class Stock(Dataset):\n",
    "    def __init__(self, df) -> None:\n",
    "        self.df = df\n",
    "        \n",
    "        self.day = self.df[\"datentime\"]\n",
    "        self.day = set(self.day)\n",
    "        self.price = pd.concat([self.df[\"preprice\"], self.df[\"nowprice\"]], axis=1)\n",
    "        self.price = self.price.to_numpy()\n",
    "        \n",
    "        self.feature = pd.concat([self.df[f\"f{idx:02d}\"] for idx in range(1, 17)], axis=1)\n",
    "        for com\n",
    "        # self.feature = self.feature.to_numpy()\n",
    "        \n",
    "        print(self.price.shape)\n",
    "        \n",
    "        \n",
    "\n",
    "    def __getitem__(self, idx):\n",
    "        pass\n",
    "        # return self.price[idx], self.feature[idx], self.\n",
    "\n",
    "    def __len__(self):\n",
    "        return self.df.shape[0]\n",
    "dataset = Stock(merge)"
   ]
  },
  {
   "cell_type": "code",
   "execution_count": null,
   "metadata": {},
   "outputs": [],
   "source": []
  },
  {
   "cell_type": "code",
   "execution_count": 29,
   "metadata": {},
   "outputs": [
    {
     "name": "stdout",
     "output_type": "stream",
     "text": [
      "(array([90.79, 96.72]), array([-1.91845191, 16.25706863, 15.89408398, -1.17809319, -1.68019831,\n",
      "        0.21510312, -0.84030849, 20.51179123, -0.42434102, -0.03772284,\n",
      "       -0.1581393 , -0.29264325, -4.73116779, -0.09351555,  0.12904562,\n",
      "       -0.05970213]))\n"
     ]
    }
   ],
   "source": [
    "s = next(iter(dataset))\n",
    "# print(s.shape)\n",
    "print(s)"
   ]
  },
  {
   "cell_type": "code",
   "execution_count": null,
   "metadata": {},
   "outputs": [],
   "source": []
  }
 ],
 "metadata": {
  "kernelspec": {
   "display_name": "Python 3.8.13 ('IDS')",
   "language": "python",
   "name": "python3"
  },
  "language_info": {
   "codemirror_mode": {
    "name": "ipython",
    "version": 3
   },
   "file_extension": ".py",
   "mimetype": "text/x-python",
   "name": "python",
   "nbconvert_exporter": "python",
   "pygments_lexer": "ipython3",
   "version": "3.8.13"
  },
  "orig_nbformat": 4,
  "vscode": {
   "interpreter": {
    "hash": "6c5319918c1df56bbc8425fc11a4113500c53384b36f54418b1e7926749cda2f"
   }
  }
 },
 "nbformat": 4,
 "nbformat_minor": 2
}
