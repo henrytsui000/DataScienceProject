{
 "cells": [
  {
   "cell_type": "code",
   "execution_count": 213,
   "metadata": {},
   "outputs": [],
   "source": [
    "import numpy as np\n",
    "import pandas as pd\n",
    "import seaborn as sns\n",
    "import matplotlib.pyplot as plt\n",
    "from scipy.interpolate import interp1d, UnivariateSpline, Rbf, make_interp_spline\n",
    "from sklearn.linear_model import LinearRegression\n",
    "\n",
    "%matplotlib inline"
   ]
  },
  {
   "cell_type": "code",
   "execution_count": 214,
   "metadata": {},
   "outputs": [],
   "source": [
    "try:\n",
    "    SD = pd.read_csv(\"../data/Stock/stock.csv\", skiprows=[1],index_col=0)\n",
    "except :\n",
    "    print('Error: stock.csv was empty. Please Run tools/updata_stock.py')"
   ]
  },
  {
   "cell_type": "code",
   "execution_count": 215,
   "metadata": {},
   "outputs": [],
   "source": [
    "# SDM stock_data_masked\n",
    "mask_percent = 0.3\n",
    "title = SD.columns\n",
    "SD = SD.to_numpy()\n",
    "SDM = SD.copy()\n",
    "\n",
    "MASK = np.random.choice([True, False], size=SDM.shape, p=[mask_percent, 1-mask_percent])\n",
    "MASK[0, :] = MASK[-1, :] = False\n",
    "SDM = np.ma.masked_array(SDM, mask=MASK)\n",
    "\n",
    "model = LinearRegression()\n",
    "inter_func = {\"interp1d\": interp1d,\n",
    "              \"UnivariateSpline\" : UnivariateSpline, \n",
    "              \"Rbf\" : Rbf, \n",
    "              \"make_interp_spline\" : make_interp_spline,\n",
    "              \"LinearRegression\": model}\n",
    "stock_avg = np.mean(SD, axis=0)"
   ]
  },
  {
   "cell_type": "code",
   "execution_count": 216,
   "metadata": {},
   "outputs": [],
   "source": [
    "find_mask = lambda array : np.nonzero(array)[0]\n",
    "DIS = lambda ground, inter : np.around(np.sum(np.abs(ground-inter)), decimals = 2)\n",
    "\n",
    "def INTER(sdm, mask, func = interp1d):\n",
    "    y_axis = np.delete(sdm, mask)\n",
    "    interp_func = func(find_mask(~mask), y_axis)\n",
    "    mask_val = interp_func(find_mask(mask))\n",
    "    sdm[find_mask(mask)] = mask_val\n",
    "    return np.around(sdm, decimals=2)\n",
    "\n",
    "def LR(sdm, mask, func):\n",
    "    y_axis = np.delete(sdm, mask)\n",
    "    model = LinearRegression()\n",
    "    model.fit(find_mask(~mask).reshape(-1, 1), y_axis)\n",
    "    mask_val = model.predict(find_mask(mask).reshape(-1, 1))\n",
    "    sdm[find_mask(mask)] = mask_val\n",
    "    return np.around(sdm, decimals=2)"
   ]
  },
  {
   "cell_type": "code",
   "execution_count": 217,
   "metadata": {},
   "outputs": [
    {
     "name": "stdout",
     "output_type": "stream",
     "text": [
      "                        meta     goog      amzn      nflx      aapl\n",
      "interp1d             1400.98   449.24    676.23   3183.65    531.46\n",
      "UnivariateSpline     1656.38   676.84    842.62   3646.56    752.65\n",
      "Rbf                  1681.88   528.68    775.90   3688.64    655.26\n",
      "make_interp_spline   1650.13   525.88    761.38   3670.08    642.72\n",
      "LinearRegression    17097.71  9640.22  12840.02  51523.70  16774.53\n"
     ]
    }
   ],
   "source": [
    "loss_table = pd.DataFrame(columns=title, index=[])\n",
    "for inter_name, func in inter_func.items():\n",
    "    loss_queue = dict()\n",
    "    for col, col_name in enumerate(title):\n",
    "        if inter_name == \"LinearRegression\":\n",
    "            inter_res = LR(SDM[:, col].copy(), MASK[:, col].copy(), func)\n",
    "        else:\n",
    "            inter_res = INTER(SDM[:, col].copy(), MASK[:, col].copy(), func)\n",
    "        inter_dis = DIS(SD[:, col], inter_res)\n",
    "        loss_queue[col_name] = inter_dis\n",
    "    loss_queue = pd.DataFrame(loss_queue, columns=title, index=[inter_name])\n",
    "    loss_table = pd.concat([loss_table, loss_queue])\n",
    "# loss_table = loss_table.div(stock_avg, axis=1)\n",
    "print(loss_table)"
   ]
  },
  {
   "cell_type": "code",
   "execution_count": 211,
   "metadata": {},
   "outputs": [
    {
     "name": "stdout",
     "output_type": "stream",
     "text": [
      "meta    0.137486\n",
      "goog    0.099762\n",
      "amzn    0.116815\n",
      "nflx    0.235006\n",
      "aapl    0.145352\n",
      "dtype: float64\n"
     ]
    }
   ],
   "source": [
    "stock_avg = np.mean(SD, axis=0)/1000\n",
    "print(stock_avg)"
   ]
  },
  {
   "cell_type": "code",
   "execution_count": null,
   "metadata": {},
   "outputs": [],
   "source": []
  }
 ],
 "metadata": {
  "kernelspec": {
   "display_name": "Python 3.8.13 ('IDS')",
   "language": "python",
   "name": "python3"
  },
  "language_info": {
   "codemirror_mode": {
    "name": "ipython",
    "version": 3
   },
   "file_extension": ".py",
   "mimetype": "text/x-python",
   "name": "python",
   "nbconvert_exporter": "python",
   "pygments_lexer": "ipython3",
   "version": "3.8.13"
  },
  "orig_nbformat": 4,
  "vscode": {
   "interpreter": {
    "hash": "1438b0029609a2fc59bf65bc9b867ac378b6eb94b343b958122d438c6b063cf4"
   }
  }
 },
 "nbformat": 4,
 "nbformat_minor": 2
}
