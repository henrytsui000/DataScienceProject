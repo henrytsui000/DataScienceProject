{
 "cells": [
  {
   "cell_type": "code",
   "execution_count": 1,
   "metadata": {},
   "outputs": [
    {
     "ename": "ModuleNotFoundError",
     "evalue": "No module named 'torch'",
     "output_type": "error",
     "traceback": [
      "\u001b[0;31m---------------------------------------------------------------------------\u001b[0m",
      "\u001b[0;31mModuleNotFoundError\u001b[0m                       Traceback (most recent call last)",
      "\u001b[1;32m/Users/lucytuan/NYCU/Projects/Stock-Price-Prediction/model/transformer.ipynb Cell 1\u001b[0m in \u001b[0;36m<cell line: 1>\u001b[0;34m()\u001b[0m\n\u001b[0;32m----> <a href='vscode-notebook-cell:/Users/lucytuan/NYCU/Projects/Stock-Price-Prediction/model/transformer.ipynb#W0sZmlsZQ%3D%3D?line=0'>1</a>\u001b[0m \u001b[39mimport\u001b[39;00m \u001b[39mtorch\u001b[39;00m\n\u001b[1;32m      <a href='vscode-notebook-cell:/Users/lucytuan/NYCU/Projects/Stock-Price-Prediction/model/transformer.ipynb#W0sZmlsZQ%3D%3D?line=1'>2</a>\u001b[0m \u001b[39mimport\u001b[39;00m \u001b[39mpandas\u001b[39;00m \u001b[39mas\u001b[39;00m \u001b[39mpd\u001b[39;00m\n\u001b[1;32m      <a href='vscode-notebook-cell:/Users/lucytuan/NYCU/Projects/Stock-Price-Prediction/model/transformer.ipynb#W0sZmlsZQ%3D%3D?line=2'>3</a>\u001b[0m \u001b[39mimport\u001b[39;00m \u001b[39mnumpy\u001b[39;00m \u001b[39mas\u001b[39;00m \u001b[39mnp\u001b[39;00m\n",
      "\u001b[0;31mModuleNotFoundError\u001b[0m: No module named 'torch'"
     ]
    }
   ],
   "source": [
    "import torch\n",
    "import pandas as pd\n",
    "import numpy as np\n",
    "import torch.nn as nn\n",
    "from torch import optim\n"
   ]
  },
  {
   "cell_type": "code",
   "execution_count": 43,
   "metadata": {},
   "outputs": [],
   "source": [
    "cat = pd.read_csv(\"../data/tmp.csv\")"
   ]
  },
  {
   "cell_type": "code",
   "execution_count": 52,
   "metadata": {},
   "outputs": [],
   "source": [
    "epoch = 100\n",
    "batchsize = 250\n",
    "lr = 1e-4\n",
    "numworker =24\n"
   ]
  },
  {
   "cell_type": "code",
   "execution_count": 75,
   "metadata": {},
   "outputs": [],
   "source": [
    "class predict(nn.Module):\n",
    "    def __init__(self, infeature, outfeature):\n",
    "        super().__init__()\n",
    "        self.transform = nn.Linear(infeature, outfeature)\n",
    "        self.leakyrelu = nn.LeakyReLU()\n",
    "    def forward(self, x):\n",
    "        x = self.transform(x)\n",
    "        out = self.leakyrelu(x)\n",
    "        return out"
   ]
  },
  {
   "cell_type": "code",
   "execution_count": 64,
   "metadata": {},
   "outputs": [],
   "source": [
    "# input dim : news_feature 160*1 + price_return_3_days 3*1 = 163*1\n",
    "# ground_truth : price_return_next_day\n",
    "news_feature = torch.tensor([])\n",
    "price_return = torch.tensor([])\n",
    "ground_truth = torch.tensor([])"
   ]
  },
  {
   "cell_type": "code",
   "execution_count": 78,
   "metadata": {},
   "outputs": [],
   "source": [
    "mymodel = predict(163, 1)\n",
    "device = \"cpu\"\n",
    "if torch.cuda.is_available():\n",
    "    device = \"cuda\"\n",
    "elif torch.backends.mps.is_available():\n",
    "    device = \"mps\"\n",
    "device = torch.device(device)"
   ]
  },
  {
   "cell_type": "code",
   "execution_count": null,
   "metadata": {},
   "outputs": [],
   "source": [
    "train_loader = torch.stack((news_feature, price_return),dim=2)\n",
    "valid_loader = torch.stack((news_feature, price_return, ground_truth),dim=3)"
   ]
  },
  {
   "cell_type": "code",
   "execution_count": null,
   "metadata": {},
   "outputs": [],
   "source": [
    "optimizer = optim.Adam(mymodel.parameters(), lr, weight_decay=wd)\n",
    "lr_sche = torch.optim.lr_scheduler.ConstantLR(optimizer, T_max=len(train_loader), eta_min=0, last_epoch=-1)\n",
    "for ep in range(epoch):\n",
    "    clear_output(wait=True)\n",
    "    mymodel.train()\n",
    "    loss_list = []\n",
    "    acc_list=[]\n",
    "    for data, _ in tqdm(train_loader):\n",
    "        optimizer.zero_grad()\n",
    "        data = data.to(device)\n",
    "        output1 = mymodel(aug_data1)\n",
    "        output2 = mymodel(aug_data2)\n",
    "        loss = xt_xent(output1, output2, temperature= tau)\n",
    "        loss_list.append(loss.item()/len(train_loader))\n",
    "        loss.backward()\n",
    "        optimizer.step()\n",
    "    if ep >10:\n",
    "        lr_sche.step()\n",
    "    ep_loss = np.mean(loss_list)\n",
    "    mymodel.eval()\n",
    "    for data, label in tqdm(valid_loader):\n",
    "        data = data.to(device)\n",
    "        label = label.to(device)\n",
    "        emb = mymodel.featurextract(data)\n",
    "        acc = KNN(emb, label, batch_size=batchsize)\n",
    "        acc_list.append(acc)\n",
    "    acc_last = np.mean(acc_list)\n",
    "    if acc_last >= max_acc:\n",
    "        max_acc = acc_last\n",
    "        torch.save(mymodel.state_dict(), f\"./ckpt/{max_acc}_tau={tau}.pt\")\n",
    "    writer.add_scalar(\"loss\", np.mean(loss_list), ep)\n",
    "    writer.add_scalar(\"acc\", acc_last, ep)\n",
    "    writer.add_scalar(\"lr\", optimizer.param_groups[0][\"lr\"], ep)\n",
    "    print(f\"{ep} epoch: loss={ep_loss}, acc={acc_last}, max acc={max_acc}\")\n",
    "maxcmt = f\"{int(max_acc*1000)}-{comment}\"\n",
    "mymodel.load_state_dict(torch.load(f\"./ckpt/{max_acc}_tau={tau}.pt\"))\n",
    "torch.save(mymodel.state_dict(),f\"./ckpt/{max_acc}.pt\")"
   ]
  },
  {
   "cell_type": "code",
   "execution_count": null,
   "metadata": {},
   "outputs": [],
   "source": [
    "optimizer = optim."
   ]
  },
  {
   "cell_type": "code",
   "execution_count": 36,
   "metadata": {},
   "outputs": [
    {
     "ename": "SyntaxError",
     "evalue": "unexpected EOF while parsing (1790028893.py, line 10)",
     "output_type": "error",
     "traceback": [
      "\u001b[0;36m  Cell \u001b[0;32mIn [36], line 10\u001b[0;36m\u001b[0m\n\u001b[0;31m    \u001b[0m\n\u001b[0m    ^\u001b[0m\n\u001b[0;31mSyntaxError\u001b[0m\u001b[0;31m:\u001b[0m unexpected EOF while parsing\n"
     ]
    }
   ],
   "source": [
    "max_acc = 0\n",
    "for eps in range(epoch):\n",
    "    mymodel.train()\n",
    "    input_feature = torch.stack((news_feature, price_return),dim=2)\n",
    "    for news, price in iter(train_loader):\n",
    "        optimizer.zero_grad()\n",
    "        out = mymodel.forward(data)\n",
    "        loss = nn.CrossEntropyLoss()\n",
    "        loss.backward()\n",
    "        optimizer.step()\n",
    "\n",
    "    mymodel.eval()\n",
    "    for news, price in iter(input_feature):\n",
    "\n",
    "        \n",
    "\n",
    "        "
   ]
  },
  {
   "cell_type": "code",
   "execution_count": null,
   "metadata": {},
   "outputs": [],
   "source": [
    "aapl = cat[cat[\"symbol\"]==\"AAPL\"] \n",
    "print(len(aapl)) #6643\n",
    "print(aapl)\n",
    "amzn = cat[cat[\"symbol\"]==\"AMZN\"] \n",
    "print(len(amzn)) #7482\n",
    "print(amzn)\n",
    "nflx = cat[cat[\"symbol\"]==\"NFLX\"] \n",
    "print(len(nflx)) # 5358\n",
    "print(nflx)\n",
    "googl = cat[cat[\"symbol\"]==\"GOOGL\"] \n",
    "print(len(googl))  #4311\n",
    "print(googl)\n",
    "meta = cat[cat[\"symbol\"]==\"META\"] \n",
    "print(len(meta))   # 1484\n",
    "print(meta)"
   ]
  }
 ],
 "metadata": {
  "kernelspec": {
   "display_name": "Python 3.8.10 64-bit",
   "language": "python",
   "name": "python3"
  },
  "language_info": {
   "codemirror_mode": {
    "name": "ipython",
    "version": 3
   },
   "file_extension": ".py",
   "mimetype": "text/x-python",
   "name": "python",
   "nbconvert_exporter": "python",
   "pygments_lexer": "ipython3",
   "version": "3.8.9"
  },
  "orig_nbformat": 4,
  "vscode": {
   "interpreter": {
    "hash": "31f2aee4e71d21fbe5cf8b01ff0e069b9275f58929596ceb00d14d90e3e16cd6"
   }
  }
 },
 "nbformat": 4,
 "nbformat_minor": 2
}
