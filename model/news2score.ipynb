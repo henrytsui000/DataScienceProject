{
 "cells": [
  {
   "cell_type": "code",
   "execution_count": null,
   "metadata": {},
   "outputs": [],
   "source": [
    "import torch\n",
    "from torch.utils.data import Dataset, DataLoader\n",
    "from torch import nn\n",
    "import torch.nn.functional as F\n",
    "from torchsummary import summary\n",
    "from transformers import BertModel, BertTokenizer\n",
    "from tqdm import tqdm\n",
    "import numpy as np\n",
    "import pandas as pd\n",
    "from sklearn.utils import shuffle\n",
    "from tensorboardX import SummaryWriter\n",
    "from IPython.display import clear_output\n"
   ]
  },
  {
   "cell_type": "code",
   "execution_count": null,
   "metadata": {},
   "outputs": [],
   "source": [
    "BERT_PATH = 'bert-base-uncased'\n",
    "MAX_LEN = 64\n",
    "DEVICE = \"cuda\"\n",
    "BZ = 128\n",
    "WD = 1e-9\n",
    "LR = 1e-5\n",
    "EPS = 50\n",
    "TMAX = 15\n",
    "COMMENT = f\"lr{LR}-B{BZ}-EPS{EPS}-TOU{TMAX}\""
   ]
  },
  {
   "cell_type": "code",
   "execution_count": null,
   "metadata": {},
   "outputs": [],
   "source": [
    "merge = pd.read_csv(\"../data/tmp.csv\")\n",
    "# , index_col=0\n",
    "merge = shuffle(merge)\n",
    "ds_size = merge.shape[0]"
   ]
  },
  {
   "cell_type": "code",
   "execution_count": null,
   "metadata": {},
   "outputs": [],
   "source": [
    "print(merge)"
   ]
  },
  {
   "cell_type": "code",
   "execution_count": null,
   "metadata": {},
   "outputs": [],
   "source": [
    "class Stock(Dataset):\n",
    "    def __init__(self, df) -> None:\n",
    "        self.df = df\n",
    "        self.score = [float(score) for score in df[\"score\"]]\n",
    "        self.tokenizer = BertTokenizer.from_pretrained(BERT_PATH)\n",
    "        self.content = [self.tokenizer(text,padding='max_length', \n",
    "                       max_length = MAX_LEN, \n",
    "                       truncation=True,\n",
    "                       return_tensors=\"pt\") for text in df[\"content\"]]\n",
    "\n",
    "    def __getitem__(self, idx):\n",
    "        return self.score[idx], self.content[idx]\n",
    "\n",
    "    def __len__(self):\n",
    "        return self.df.shape[0]"
   ]
  },
  {
   "cell_type": "code",
   "execution_count": null,
   "metadata": {},
   "outputs": [],
   "source": [
    "t0, t1, t2 = np.split(merge.sample(frac=1, random_state=42), [int(.8*ds_size), int(.9*ds_size)])\n",
    "dataset = {x: Stock(s) for x, s in [(\"train\", t0), (\"valid\", t1), (\"test\", t2)]}\n",
    "loader = {x: DataLoader(dataset[x], batch_size=BZ, num_workers=24, shuffle=True) \n",
    "                                            for x in [\"train\", \"valid\", \"test\"]}"
   ]
  },
  {
   "cell_type": "code",
   "execution_count": null,
   "metadata": {},
   "outputs": [],
   "source": [
    "for state in [\"train\", \"valid\", \"test\"]:\n",
    "    sz = 0\n",
    "    for num, t in loader[state]:\n",
    "        sz += len(num)\n",
    "    print(sz)"
   ]
  },
  {
   "cell_type": "code",
   "execution_count": null,
   "metadata": {},
   "outputs": [],
   "source": [
    "class Bert4price(nn.Module):\n",
    "    def __init__(self) -> None:\n",
    "        super().__init__()\n",
    "        self.bert = BertModel.from_pretrained(BERT_PATH)\n",
    "        self.fc = nn.Sequential(\n",
    "            nn.Linear(768, 128),\n",
    "            nn.ReLU(),\n",
    "            nn.Linear(128, 16),\n",
    "            nn.ReLU(),\n",
    "            nn.Linear(16, 1)\n",
    "        )\n",
    "    def forward(self, text, mask):\n",
    "        _, output = self.bert(input_ids=text, attention_mask=mask,return_dict=False)\n",
    "        output = self.fc(output)\n",
    "        return torch.squeeze(output, 1).double()"
   ]
  },
  {
   "cell_type": "code",
   "execution_count": null,
   "metadata": {},
   "outputs": [],
   "source": [
    "bert = Bert4price()\n",
    "bert = bert.to(DEVICE)"
   ]
  },
  {
   "cell_type": "code",
   "execution_count": null,
   "metadata": {},
   "outputs": [],
   "source": [
    "crierion = nn.MSELoss()\n",
    "optimizer = torch.optim.Adam(bert.parameters(), lr = LR, weight_decay=WD)\n",
    "lr_sch = torch.optim.lr_scheduler.CosineAnnealingLR(optimizer, T_max=TMAX)"
   ]
  },
  {
   "cell_type": "code",
   "execution_count": null,
   "metadata": {},
   "outputs": [],
   "source": [
    "writer = SummaryWriter(comment=COMMENT)\n",
    "min_loss = 1e10\n",
    "for epoch in range(EPS):\n",
    "    for state in [\"train\", \"valid\"]:\n",
    "        clear_output(wait=True)\n",
    "        tqdm_bar = tqdm(loader[state])\n",
    "        tqdm_bar.set_description(f\"[{epoch+1}/{EPS}]\")\n",
    "        loss_list = []\n",
    "        for value, content in tqdm_bar:\n",
    "            \n",
    "            text, mask = content[\"input_ids\"].squeeze(1), content[\"attention_mask\"]\n",
    "            text, mask = text.to(DEVICE), mask.to(DEVICE)\n",
    "        \n",
    "            value = value.to(DEVICE)\n",
    "            output = bert(text, mask)\n",
    "            loss = crierion(output, value)\n",
    "            loss_list.append(loss.item())\n",
    "            if state == \"train\":\n",
    "                optimizer.zero_grad() \n",
    "                loss.backward()\n",
    "                optimizer.step()\n",
    "                \n",
    "        avg_loss = sum(loss_list) / (len(loss_list)*BZ)\n",
    "        if avg_loss < min_loss:\n",
    "            min_loss = avg_loss\n",
    "            torch.save(bert.state_dict(), f\"./pretrained/{COMMENT}.pt\")\n",
    "        writer.add_scalar(f\"{state}-loss\", avg_loss, epoch)\n",
    "    else:\n",
    "        lr_sch.step()\n",
    "        vnum = value.detach().cpu().numpy()\n",
    "        onum = output.detach().cpu().numpy()\n",
    "        result = np.array([vnum, onum]).T\n",
    "        valid_result = pd.DataFrame(result, columns = ['ans','output'])\n",
    "        valid_result.to_csv(\"../data/result.csv\")"
   ]
  },
  {
   "cell_type": "code",
   "execution_count": null,
   "metadata": {},
   "outputs": [],
   "source": []
  }
 ],
 "metadata": {
  "kernelspec": {
   "display_name": "Python 3.8.13 ('IDS')",
   "language": "python",
   "name": "python3"
  },
  "language_info": {
   "codemirror_mode": {
    "name": "ipython",
    "version": 3
   },
   "file_extension": ".py",
   "mimetype": "text/x-python",
   "name": "python",
   "nbconvert_exporter": "python",
   "pygments_lexer": "ipython3",
   "version": "3.8.13 (default, Oct 21 2022, 23:50:54) \n[GCC 11.2.0]"
  },
  "vscode": {
   "interpreter": {
    "hash": "6c5319918c1df56bbc8425fc11a4113500c53384b36f54418b1e7926749cda2f"
   }
  }
 },
 "nbformat": 4,
 "nbformat_minor": 2
}
