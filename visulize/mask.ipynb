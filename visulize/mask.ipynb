{
 "cells": [
  {
   "cell_type": "code",
   "execution_count": 1,
   "metadata": {},
   "outputs": [],
   "source": [
    "import numpy as np\n",
    "import pandas as pd\n",
    "import seaborn as sns\n",
    "import matplotlib.pyplot as plt\n",
    "from scipy.interpolate import interp1d, UnivariateSpline, Rbf, make_interp_spline\n",
    "from sklearn.linear_model import LinearRegression\n",
    "from tqdm import tqdm\n",
    "import ffn\n",
    "%matplotlib inline"
   ]
  },
  {
   "cell_type": "code",
   "execution_count": 2,
   "metadata": {},
   "outputs": [],
   "source": [
    "find_mask = lambda array : np.nonzero(array)[0]\n",
    "DIS = lambda ground, inter : np.around(np.sum(np.abs(ground-inter)), decimals = 2)\n",
    "\n",
    "def INTER(sdm, mask, func = interp1d):\n",
    "    y_axis = np.delete(sdm, mask)\n",
    "    interp_func = func(find_mask(~mask), y_axis)\n",
    "    mask_val = interp_func(find_mask(mask))\n",
    "    sdm[find_mask(mask)] = mask_val\n",
    "    return np.around(sdm, decimals=2)\n",
    "\n",
    "def LR(sdm, mask):\n",
    "    y_axis = np.delete(sdm, mask)\n",
    "    model = LinearRegression()\n",
    "    model.fit(find_mask(~mask).reshape(-1, 1), y_axis)\n",
    "    mask_val = model.predict(find_mask(mask).reshape(-1, 1))\n",
    "    sdm[find_mask(mask)] = mask_val\n",
    "    return np.around(sdm, decimals=2)\n",
    "\n",
    "inter_func = {\"interp1d\": interp1d,\n",
    "              \"UnivariateSpline\" : UnivariateSpline, \n",
    "              \"Rbf\" : Rbf, \n",
    "              \"make_interp_spline\" : make_interp_spline,\n",
    "              \"LinearRegression\": None}\n"
   ]
  },
  {
   "cell_type": "code",
   "execution_count": 3,
   "metadata": {},
   "outputs": [],
   "source": [
    "def get_res(day = 500, mask_percent = 0.2, inter_name=None, func = None):\n",
    "    SD = pd.read_csv(\"../data/stock.csv\", skiprows=[1],index_col=0)\n",
    "    SD = SD[-day:]\n",
    "    title = SD.columns\n",
    "    SD = SD.to_numpy()\n",
    "    SDM = SD.copy()\n",
    "\n",
    "    MASK = np.random.choice([True, False], size=SDM.shape, p=[mask_percent, 1-mask_percent])\n",
    "    MASK[0, :] = MASK[-1, :] = False\n",
    "    SDM = np.ma.masked_array(SDM, mask=MASK)\n",
    "\n",
    "\n",
    "    loss_queue = dict()\n",
    "    for col, col_name in enumerate(title):\n",
    "        if inter_name == \"LinearRegression\":\n",
    "            inter_res = LR(SDM[:, col].copy(), MASK[:, col].copy())\n",
    "        else:\n",
    "            inter_res = INTER(SDM[:, col].copy(), MASK[:, col].copy(), func)\n",
    "        inter_dis = DIS(SD[:, col], inter_res)\n",
    "        return inter_dis/(day*mask_percent*np.mean(SD[:, col])/100)\n"
   ]
  },
  {
   "cell_type": "code",
   "execution_count": 4,
   "metadata": {},
   "outputs": [
    {
     "name": "stderr",
     "output_type": "stream",
     "text": [
      "  0%|          | 0/8 [00:00<?, ?it/s]\n"
     ]
    },
    {
     "ename": "ValueError",
     "evalue": "Found array with 0 sample(s) (shape=(0, 1)) while a minimum of 1 is required by LinearRegression.",
     "output_type": "error",
     "traceback": [
      "\u001b[0;31m---------------------------------------------------------------------------\u001b[0m",
      "\u001b[0;31mValueError\u001b[0m                                Traceback (most recent call last)",
      "Cell \u001b[0;32mIn [4], line 13\u001b[0m\n\u001b[1;32m     11\u001b[0m \u001b[39mfor\u001b[39;00m _ \u001b[39min\u001b[39;00m \u001b[39mrange\u001b[39m(\u001b[39m10\u001b[39m):\n\u001b[1;32m     12\u001b[0m     \u001b[39mfor\u001b[39;00m k1, val1 \u001b[39min\u001b[39;00m inter_func\u001b[39m.\u001b[39mitems():\n\u001b[0;32m---> 13\u001b[0m         ret \u001b[39m=\u001b[39m get_res(day\u001b[39m=\u001b[39;49mday,inter_name\u001b[39m=\u001b[39;49mk1, func\u001b[39m=\u001b[39;49mval1)\n\u001b[1;32m     14\u001b[0m         avg[k1]\u001b[39m.\u001b[39mappend(ret)\n\u001b[1;32m     16\u001b[0m \u001b[39mfor\u001b[39;00m name \u001b[39min\u001b[39;00m inter_func\u001b[39m.\u001b[39mkeys():\n",
      "Cell \u001b[0;32mIn [3], line 16\u001b[0m, in \u001b[0;36mget_res\u001b[0;34m(day, mask_percent, inter_name, func)\u001b[0m\n\u001b[1;32m     14\u001b[0m \u001b[39mfor\u001b[39;00m col, col_name \u001b[39min\u001b[39;00m \u001b[39menumerate\u001b[39m(title):\n\u001b[1;32m     15\u001b[0m     \u001b[39mif\u001b[39;00m inter_name \u001b[39m==\u001b[39m \u001b[39m\"\u001b[39m\u001b[39mLinearRegression\u001b[39m\u001b[39m\"\u001b[39m:\n\u001b[0;32m---> 16\u001b[0m         inter_res \u001b[39m=\u001b[39m LR(SDM[:, col]\u001b[39m.\u001b[39;49mcopy(), MASK[:, col]\u001b[39m.\u001b[39;49mcopy())\n\u001b[1;32m     17\u001b[0m     \u001b[39melse\u001b[39;00m:\n\u001b[1;32m     18\u001b[0m         inter_res \u001b[39m=\u001b[39m INTER(SDM[:, col]\u001b[39m.\u001b[39mcopy(), MASK[:, col]\u001b[39m.\u001b[39mcopy(), func)\n",
      "Cell \u001b[0;32mIn [2], line 15\u001b[0m, in \u001b[0;36mLR\u001b[0;34m(sdm, mask)\u001b[0m\n\u001b[1;32m     13\u001b[0m model \u001b[39m=\u001b[39m LinearRegression()\n\u001b[1;32m     14\u001b[0m model\u001b[39m.\u001b[39mfit(find_mask(\u001b[39m~\u001b[39mmask)\u001b[39m.\u001b[39mreshape(\u001b[39m-\u001b[39m\u001b[39m1\u001b[39m, \u001b[39m1\u001b[39m), y_axis)\n\u001b[0;32m---> 15\u001b[0m mask_val \u001b[39m=\u001b[39m model\u001b[39m.\u001b[39;49mpredict(find_mask(mask)\u001b[39m.\u001b[39;49mreshape(\u001b[39m-\u001b[39;49m\u001b[39m1\u001b[39;49m, \u001b[39m1\u001b[39;49m))\n\u001b[1;32m     16\u001b[0m sdm[find_mask(mask)] \u001b[39m=\u001b[39m mask_val\n\u001b[1;32m     17\u001b[0m \u001b[39mreturn\u001b[39;00m np\u001b[39m.\u001b[39maround(sdm, decimals\u001b[39m=\u001b[39m\u001b[39m2\u001b[39m)\n",
      "File \u001b[0;32m~/anaconda3/envs/IDS/lib/python3.8/site-packages/sklearn/linear_model/_base.py:386\u001b[0m, in \u001b[0;36mLinearModel.predict\u001b[0;34m(self, X)\u001b[0m\n\u001b[1;32m    372\u001b[0m \u001b[39mdef\u001b[39;00m \u001b[39mpredict\u001b[39m(\u001b[39mself\u001b[39m, X):\n\u001b[1;32m    373\u001b[0m     \u001b[39m\"\"\"\u001b[39;00m\n\u001b[1;32m    374\u001b[0m \u001b[39m    Predict using the linear model.\u001b[39;00m\n\u001b[1;32m    375\u001b[0m \n\u001b[0;32m   (...)\u001b[0m\n\u001b[1;32m    384\u001b[0m \u001b[39m        Returns predicted values.\u001b[39;00m\n\u001b[1;32m    385\u001b[0m \u001b[39m    \"\"\"\u001b[39;00m\n\u001b[0;32m--> 386\u001b[0m     \u001b[39mreturn\u001b[39;00m \u001b[39mself\u001b[39;49m\u001b[39m.\u001b[39;49m_decision_function(X)\n",
      "File \u001b[0;32m~/anaconda3/envs/IDS/lib/python3.8/site-packages/sklearn/linear_model/_base.py:369\u001b[0m, in \u001b[0;36mLinearModel._decision_function\u001b[0;34m(self, X)\u001b[0m\n\u001b[1;32m    366\u001b[0m \u001b[39mdef\u001b[39;00m \u001b[39m_decision_function\u001b[39m(\u001b[39mself\u001b[39m, X):\n\u001b[1;32m    367\u001b[0m     check_is_fitted(\u001b[39mself\u001b[39m)\n\u001b[0;32m--> 369\u001b[0m     X \u001b[39m=\u001b[39m \u001b[39mself\u001b[39;49m\u001b[39m.\u001b[39;49m_validate_data(X, accept_sparse\u001b[39m=\u001b[39;49m[\u001b[39m\"\u001b[39;49m\u001b[39mcsr\u001b[39;49m\u001b[39m\"\u001b[39;49m, \u001b[39m\"\u001b[39;49m\u001b[39mcsc\u001b[39;49m\u001b[39m\"\u001b[39;49m, \u001b[39m\"\u001b[39;49m\u001b[39mcoo\u001b[39;49m\u001b[39m\"\u001b[39;49m], reset\u001b[39m=\u001b[39;49m\u001b[39mFalse\u001b[39;49;00m)\n\u001b[1;32m    370\u001b[0m     \u001b[39mreturn\u001b[39;00m safe_sparse_dot(X, \u001b[39mself\u001b[39m\u001b[39m.\u001b[39mcoef_\u001b[39m.\u001b[39mT, dense_output\u001b[39m=\u001b[39m\u001b[39mTrue\u001b[39;00m) \u001b[39m+\u001b[39m \u001b[39mself\u001b[39m\u001b[39m.\u001b[39mintercept_\n",
      "File \u001b[0;32m~/anaconda3/envs/IDS/lib/python3.8/site-packages/sklearn/base.py:577\u001b[0m, in \u001b[0;36mBaseEstimator._validate_data\u001b[0;34m(self, X, y, reset, validate_separately, **check_params)\u001b[0m\n\u001b[1;32m    575\u001b[0m     \u001b[39mraise\u001b[39;00m \u001b[39mValueError\u001b[39;00m(\u001b[39m\"\u001b[39m\u001b[39mValidation should be done on X, y or both.\u001b[39m\u001b[39m\"\u001b[39m)\n\u001b[1;32m    576\u001b[0m \u001b[39melif\u001b[39;00m \u001b[39mnot\u001b[39;00m no_val_X \u001b[39mand\u001b[39;00m no_val_y:\n\u001b[0;32m--> 577\u001b[0m     X \u001b[39m=\u001b[39m check_array(X, input_name\u001b[39m=\u001b[39;49m\u001b[39m\"\u001b[39;49m\u001b[39mX\u001b[39;49m\u001b[39m\"\u001b[39;49m, \u001b[39m*\u001b[39;49m\u001b[39m*\u001b[39;49mcheck_params)\n\u001b[1;32m    578\u001b[0m     out \u001b[39m=\u001b[39m X\n\u001b[1;32m    579\u001b[0m \u001b[39melif\u001b[39;00m no_val_X \u001b[39mand\u001b[39;00m \u001b[39mnot\u001b[39;00m no_val_y:\n",
      "File \u001b[0;32m~/anaconda3/envs/IDS/lib/python3.8/site-packages/sklearn/utils/validation.py:909\u001b[0m, in \u001b[0;36mcheck_array\u001b[0;34m(array, accept_sparse, accept_large_sparse, dtype, order, copy, force_all_finite, ensure_2d, allow_nd, ensure_min_samples, ensure_min_features, estimator, input_name)\u001b[0m\n\u001b[1;32m    907\u001b[0m     n_samples \u001b[39m=\u001b[39m _num_samples(array)\n\u001b[1;32m    908\u001b[0m     \u001b[39mif\u001b[39;00m n_samples \u001b[39m<\u001b[39m ensure_min_samples:\n\u001b[0;32m--> 909\u001b[0m         \u001b[39mraise\u001b[39;00m \u001b[39mValueError\u001b[39;00m(\n\u001b[1;32m    910\u001b[0m             \u001b[39m\"\u001b[39m\u001b[39mFound array with \u001b[39m\u001b[39m%d\u001b[39;00m\u001b[39m sample(s) (shape=\u001b[39m\u001b[39m%s\u001b[39;00m\u001b[39m) while a\u001b[39m\u001b[39m\"\u001b[39m\n\u001b[1;32m    911\u001b[0m             \u001b[39m\"\u001b[39m\u001b[39m minimum of \u001b[39m\u001b[39m%d\u001b[39;00m\u001b[39m is required\u001b[39m\u001b[39m%s\u001b[39;00m\u001b[39m.\u001b[39m\u001b[39m\"\u001b[39m\n\u001b[1;32m    912\u001b[0m             \u001b[39m%\u001b[39m (n_samples, array\u001b[39m.\u001b[39mshape, ensure_min_samples, context)\n\u001b[1;32m    913\u001b[0m         )\n\u001b[1;32m    915\u001b[0m \u001b[39mif\u001b[39;00m ensure_min_features \u001b[39m>\u001b[39m \u001b[39m0\u001b[39m \u001b[39mand\u001b[39;00m array\u001b[39m.\u001b[39mndim \u001b[39m==\u001b[39m \u001b[39m2\u001b[39m:\n\u001b[1;32m    916\u001b[0m     n_features \u001b[39m=\u001b[39m array\u001b[39m.\u001b[39mshape[\u001b[39m1\u001b[39m]\n",
      "\u001b[0;31mValueError\u001b[0m: Found array with 0 sample(s) (shape=(0, 1)) while a minimum of 1 is required by LinearRegression."
     ]
    }
   ],
   "source": [
    "output = dict()\n",
    "def AVG(lst):\n",
    "    return sum(lst)/len(lst)\n",
    "for k1 in inter_func.keys():\n",
    "    output[k1] = dict()\n",
    "for day in tqdm(range(20, 100, 10)):\n",
    "\n",
    "    avg = dict()\n",
    "    for name in inter_func.keys():\n",
    "        avg[name] = list()\n",
    "    for _ in range(10):\n",
    "        for k1, val1 in inter_func.items():\n",
    "            ret = get_res(day=day,inter_name=k1, func=val1)\n",
    "            avg[k1].append(ret)\n",
    "    \n",
    "    for name in inter_func.keys():\n",
    "        output[name][day] = AVG(avg[name])\n",
    "print(output)"
   ]
  },
  {
   "cell_type": "code",
   "execution_count": null,
   "metadata": {},
   "outputs": [],
   "source": [
    "df = pd.DataFrame(output)\n",
    "# df = df.drop(columns=['LinearRegression'])\n",
    "print(df)"
   ]
  },
  {
   "cell_type": "code",
   "execution_count": null,
   "metadata": {},
   "outputs": [],
   "source": [
    "print(inter_func.keys())"
   ]
  },
  {
   "cell_type": "code",
   "execution_count": null,
   "metadata": {},
   "outputs": [],
   "source": [
    "df.index.name = 'date'\n",
    "df.to_csv(\"./mask.csv\")\n",
    "sns.lineplot(data=df[-200:],dashes=False)\n",
    "# sns.lineplot(data=Risk_Table[-200:],dashes=False)\n",
    "plt.show()"
   ]
  },
  {
   "cell_type": "code",
   "execution_count": null,
   "metadata": {},
   "outputs": [],
   "source": [
    "prices = pd.read_csv(\"../data/Stock/stock.csv\", index_col=0)\n",
    "# length = [100, 200, 500, 1000, 2000]\n",
    "Risk_Table = pd.DataFrame(columns=prices.columns)\n",
    "import ffn\n",
    "for l in tqdm(range(10, 1000, 5)):\n",
    "    test = prices.iloc[-l:]\n",
    "    Dnext = test[ 1:].reset_index(drop=True)\n",
    "    Dthis = test[:-1].reset_index(drop=True)\n",
    "    Risk_each_day = (Dnext - Dthis)**2\n",
    "    Risk_square = Risk_each_day.sum(axis=0)/test.shape[0]\n",
    "    Risk = Risk_square**(1/2)\n",
    "    Risk.name = f\"{l}\"\n",
    "    Risk_Table = pd.concat([Risk_Table, Risk.to_frame().T])\n",
    "print(Risk_Table)"
   ]
  },
  {
   "cell_type": "code",
   "execution_count": null,
   "metadata": {},
   "outputs": [],
   "source": [
    "# Risk_Table.index.name = 'date'\n",
    "Risk_Table = Risk_Table.rolling(5).mean()\n",
    "print(Risk_Table)\n",
    "sns.lineplot(data=Risk_Table,dashes=False)\n",
    "plt.gca().invert_xaxis()"
   ]
  },
  {
   "cell_type": "code",
   "execution_count": null,
   "metadata": {},
   "outputs": [],
   "source": [
    "\n",
    "Risk_Table.to_csv(\"./risk.csv\")"
   ]
  },
  {
   "cell_type": "code",
   "execution_count": null,
   "metadata": {},
   "outputs": [],
   "source": [
    "print(output)"
   ]
  },
  {
   "cell_type": "code",
   "execution_count": null,
   "metadata": {},
   "outputs": [],
   "source": [
    "# SDM stock_data_masked\n",
    "mask_percent = 0.3\n",
    "title = SD.columns\n",
    "SD = SD.to_numpy()\n",
    "SDM = SD.copy()\n",
    "\n",
    "MASK = np.random.choice([True, False], size=SDM.shape, p=[mask_percent, 1-mask_percent])\n",
    "MASK[0, :] = MASK[-1, :] = False\n",
    "SDM = np.ma.masked_array(SDM, mask=MASK)\n",
    "\n",
    "model = LinearRegression()\n",
    "inter_func = {\"interp1d\": interp1d,\n",
    "              \"UnivariateSpline\" : UnivariateSpline, \n",
    "              \"Rbf\" : Rbf, \n",
    "              \"make_interp_spline\" : make_interp_spline,\n",
    "              \"LinearRegression\": model}\n",
    "stock_avg = np.mean(SD, axis=0)"
   ]
  }
 ],
 "metadata": {
  "kernelspec": {
   "display_name": "IDS",
   "language": "python",
   "name": "python3"
  },
  "language_info": {
   "codemirror_mode": {
    "name": "ipython",
    "version": 3
   },
   "file_extension": ".py",
   "mimetype": "text/x-python",
   "name": "python",
   "nbconvert_exporter": "python",
   "pygments_lexer": "ipython3",
   "version": "3.8.13"
  },
  "vscode": {
   "interpreter": {
    "hash": "6c5319918c1df56bbc8425fc11a4113500c53384b36f54418b1e7926749cda2f"
   }
  }
 },
 "nbformat": 4,
 "nbformat_minor": 2
}
