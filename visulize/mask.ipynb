{
 "cells": [
  {
   "cell_type": "code",
   "execution_count": null,
   "metadata": {},
   "outputs": [],
   "source": [
    "import numpy as np\n",
    "import pandas as pd\n",
    "import seaborn as sns\n",
    "import matplotlib.pyplot as plt\n",
    "from scipy.interpolate import interp1d, UnivariateSpline, Rbf, make_interp_spline\n",
    "from sklearn.linear_model import LinearRegression\n",
    "from tqdm import tqdm\n",
    "import ffn\n",
    "%matplotlib inline"
   ]
  },
  {
   "cell_type": "code",
   "execution_count": null,
   "metadata": {},
   "outputs": [],
   "source": [
    "find_mask = lambda array : np.nonzero(array)[0]\n",
    "DIS = lambda ground, inter : np.around(np.sum(np.abs(ground-inter)), decimals = 2)\n",
    "\n",
    "def INTER(sdm, mask, func = interp1d):\n",
    "    y_axis = np.delete(sdm, mask)\n",
    "    interp_func = func(find_mask(~mask), y_axis)\n",
    "    mask_val = interp_func(find_mask(mask))\n",
    "    sdm[find_mask(mask)] = mask_val\n",
    "    return np.around(sdm, decimals=2)\n",
    "\n",
    "def LR(sdm, mask):\n",
    "    y_axis = np.delete(sdm, mask)\n",
    "    model = LinearRegression()\n",
    "    model.fit(find_mask(~mask).reshape(-1, 1), y_axis)\n",
    "    mask_val = model.predict(find_mask(mask).reshape(-1, 1))\n",
    "    sdm[find_mask(mask)] = mask_val\n",
    "    return np.around(sdm, decimals=2)\n",
    "\n",
    "inter_func = {\"interp1d\": interp1d,\n",
    "              \"UnivariateSpline\" : UnivariateSpline, \n",
    "              \"Rbf\" : Rbf, \n",
    "              \"make_interp_spline\" : make_interp_spline,\n",
    "              \"LinearRegression\": None}\n"
   ]
  },
  {
   "cell_type": "code",
   "execution_count": null,
   "metadata": {},
   "outputs": [],
   "source": [
    "def get_res(day = 500, mask_percent = 0.2, inter_name=None, func = None):\n",
    "    SD = pd.read_csv(\"../data/Stock/stock.csv\", skiprows=[1],index_col=0)\n",
    "    SD = SD[-day:]\n",
    "    title = SD.columns\n",
    "    SD = SD.to_numpy()\n",
    "    SDM = SD.copy()\n",
    "\n",
    "    MASK = np.random.choice([True, False], size=SDM.shape, p=[mask_percent, 1-mask_percent])\n",
    "    MASK[0, :] = MASK[-1, :] = False\n",
    "    SDM = np.ma.masked_array(SDM, mask=MASK)\n",
    "\n",
    "\n",
    "    loss_queue = dict()\n",
    "    for col, col_name in enumerate(title):\n",
    "        if inter_name == \"LinearRegression\":\n",
    "            inter_res = LR(SDM[:, col].copy(), MASK[:, col].copy())\n",
    "        else:\n",
    "            inter_res = INTER(SDM[:, col].copy(), MASK[:, col].copy(), func)\n",
    "        inter_dis = DIS(SD[:, col], inter_res)\n",
    "        return inter_dis/(day*mask_percent*np.mean(SD[:, col])/100)\n"
   ]
  },
  {
   "cell_type": "code",
   "execution_count": null,
   "metadata": {},
   "outputs": [],
   "source": [
    "output = dict()\n",
    "def AVG(lst):\n",
    "    return sum(lst)/len(lst)\n",
    "for k1 in inter_func.keys():\n",
    "    output[k1] = dict()\n",
    "for day in tqdm(range(20, 100, 10)):\n",
    "\n",
    "    avg = dict()\n",
    "    for name in inter_func.keys():\n",
    "        avg[name] = list()\n",
    "    for _ in range(10):\n",
    "        for k1, val1 in inter_func.items():\n",
    "            ret = get_res(day=day,inter_name=k1, func=val1)\n",
    "            avg[k1].append(ret)\n",
    "    \n",
    "    for name in inter_func.keys():\n",
    "        output[name][day] = AVG(avg[name])\n",
    "print(output)"
   ]
  },
  {
   "cell_type": "code",
   "execution_count": null,
   "metadata": {},
   "outputs": [],
   "source": [
    "df = pd.DataFrame(output)\n",
    "# df = df.drop(columns=['LinearRegression'])\n",
    "print(df)"
   ]
  },
  {
   "cell_type": "code",
   "execution_count": null,
   "metadata": {},
   "outputs": [],
   "source": [
    "print(inter_func.keys())"
   ]
  },
  {
   "cell_type": "code",
   "execution_count": null,
   "metadata": {},
   "outputs": [],
   "source": [
    "df.index.name = 'date'\n",
    "df.to_csv(\"./mask.csv\")\n",
    "sns.lineplot(data=df[-200:],dashes=False)\n",
    "# sns.lineplot(data=Risk_Table[-200:],dashes=False)\n",
    "plt.show()"
   ]
  },
  {
   "cell_type": "code",
   "execution_count": null,
   "metadata": {},
   "outputs": [],
   "source": [
    "prices = pd.read_csv(\"../data/Stock/stock.csv\", index_col=0)\n",
    "# length = [100, 200, 500, 1000, 2000]\n",
    "Risk_Table = pd.DataFrame(columns=prices.columns)\n",
    "import ffn\n",
    "for l in tqdm(range(10, 1000, 5)):\n",
    "    test = prices.iloc[-l:]\n",
    "    Dnext = test[ 1:].reset_index(drop=True)\n",
    "    Dthis = test[:-1].reset_index(drop=True)\n",
    "    Risk_each_day = (Dnext - Dthis)**2\n",
    "    Risk_square = Risk_each_day.sum(axis=0)/test.shape[0]\n",
    "    Risk = Risk_square**(1/2)\n",
    "    Risk.name = f\"{l}\"\n",
    "    Risk_Table = pd.concat([Risk_Table, Risk.to_frame().T])\n",
    "print(Risk_Table)"
   ]
  },
  {
   "cell_type": "code",
   "execution_count": null,
   "metadata": {},
   "outputs": [],
   "source": [
    "# Risk_Table.index.name = 'date'\n",
    "Risk_Table = Risk_Table.rolling(5).mean()\n",
    "print(Risk_Table)\n",
    "sns.lineplot(data=Risk_Table,dashes=False)\n",
    "plt.gca().invert_xaxis()"
   ]
  },
  {
   "cell_type": "code",
   "execution_count": null,
   "metadata": {},
   "outputs": [],
   "source": [
    "\n",
    "Risk_Table.to_csv(\"./risk.csv\")"
   ]
  },
  {
   "cell_type": "code",
   "execution_count": null,
   "metadata": {},
   "outputs": [],
   "source": [
    "print(output)"
   ]
  },
  {
   "cell_type": "code",
   "execution_count": null,
   "metadata": {},
   "outputs": [],
   "source": [
    "# SDM stock_data_masked\n",
    "mask_percent = 0.3\n",
    "title = SD.columns\n",
    "SD = SD.to_numpy()\n",
    "SDM = SD.copy()\n",
    "\n",
    "MASK = np.random.choice([True, False], size=SDM.shape, p=[mask_percent, 1-mask_percent])\n",
    "MASK[0, :] = MASK[-1, :] = False\n",
    "SDM = np.ma.masked_array(SDM, mask=MASK)\n",
    "\n",
    "model = LinearRegression()\n",
    "inter_func = {\"interp1d\": interp1d,\n",
    "              \"UnivariateSpline\" : UnivariateSpline, \n",
    "              \"Rbf\" : Rbf, \n",
    "              \"make_interp_spline\" : make_interp_spline,\n",
    "              \"LinearRegression\": model}\n",
    "stock_avg = np.mean(SD, axis=0)"
   ]
  }
 ],
 "metadata": {
  "kernelspec": {
   "display_name": "Python 3.8.13 ('IDS')",
   "language": "python",
   "name": "python3"
  },
  "language_info": {
   "codemirror_mode": {
    "name": "ipython",
    "version": 3
   },
   "file_extension": ".py",
   "mimetype": "text/x-python",
   "name": "python",
   "nbconvert_exporter": "python",
   "pygments_lexer": "ipython3",
   "version": "3.8.13"
  },
  "vscode": {
   "interpreter": {
    "hash": "1438b0029609a2fc59bf65bc9b867ac378b6eb94b343b958122d438c6b063cf4"
   }
  }
 },
 "nbformat": 4,
 "nbformat_minor": 2
}
