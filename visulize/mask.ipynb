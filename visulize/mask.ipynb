{
 "cells": [
  {
   "cell_type": "code",
   "execution_count": null,
   "metadata": {},
   "outputs": [
    {
     "ename": "",
     "evalue": "",
     "output_type": "error",
     "traceback": [
      "\u001b[1;31mFailed to start the Kernel. \n",
      "\u001b[1;31mspawn /conda ENOENT. \n",
      "\u001b[1;31mView Jupyter <a href='command:jupyter.viewOutput'>log</a> for further details."
     ]
    }
   ],
   "source": [
    "import numpy as np\n",
    "import pandas as pd\n",
    "import seaborn as sns\n",
    "import matplotlib.pyplot as plt\n",
    "from scipy.interpolate import interp1d, UnivariateSpline, Rbf, make_interp_spline\n",
    "from sklearn.linear_model import LinearRegression\n",
    "from tqdm import tqdm\n",
    "import ffn\n",
    "%matplotlib inline"
   ]
  },
  {
   "cell_type": "code",
   "execution_count": 5,
   "metadata": {},
   "outputs": [],
   "source": [
    "find_mask = lambda array : np.nonzero(array)[0]\n",
    "DIS = lambda ground, inter : np.around(np.sum(np.abs(ground-inter)), decimals = 2)\n",
    "\n",
    "def INTER(sdm, mask, func = interp1d):\n",
    "    y_axis = np.delete(sdm, mask)\n",
    "    interp_func = func(find_mask(~mask), y_axis)\n",
    "    mask_val = interp_func(find_mask(mask))\n",
    "    sdm[find_mask(mask)] = mask_val\n",
    "    return np.around(sdm, decimals=2)\n",
    "\n",
    "def LR(sdm, mask):\n",
    "    y_axis = np.delete(sdm, mask)\n",
    "    model = LinearRegression()\n",
    "    model.fit(find_mask(~mask).reshape(-1, 1), y_axis)\n",
    "    mask_val = model.predict(find_mask(mask).reshape(-1, 1))\n",
    "    sdm[find_mask(mask)] = mask_val\n",
    "    return np.around(sdm, decimals=2)\n",
    "\n",
    "inter_func = {\"interp1d\": interp1d,\n",
    "              \"UnivariateSpline\" : UnivariateSpline, \n",
    "              \"Rbf\" : Rbf, \n",
    "              \"make_interp_spline\" : make_interp_spline,\n",
    "              \"LinearRegression\": None}\n"
   ]
  },
  {
   "cell_type": "code",
   "execution_count": 45,
   "metadata": {},
   "outputs": [],
   "source": [
    "def get_res(day = 500, mask_percent = 0.2, inter_name=None, func = None):\n",
    "    SD = pd.read_csv(\"../data/Stock/stock.csv\", skiprows=[1],index_col=0)\n",
    "    SD = SD[-day:]\n",
    "    title = SD.columns\n",
    "    SD = SD.to_numpy()\n",
    "    SDM = SD.copy()\n",
    "\n",
    "    MASK = np.random.choice([True, False], size=SDM.shape, p=[mask_percent, 1-mask_percent])\n",
    "    MASK[0, :] = MASK[-1, :] = False\n",
    "    SDM = np.ma.masked_array(SDM, mask=MASK)\n",
    "\n",
    "\n",
    "    loss_queue = dict()\n",
    "    for col, col_name in enumerate(title):\n",
    "        if inter_name == \"LinearRegression\":\n",
    "            inter_res = LR(SDM[:, col].copy(), MASK[:, col].copy())\n",
    "        else:\n",
    "            inter_res = INTER(SDM[:, col].copy(), MASK[:, col].copy(), func)\n",
    "        inter_dis = DIS(SD[:, col], inter_res)\n",
    "        return inter_dis/(day*mask_percent*np.mean(SD[:, col])/100)\n"
   ]
  },
  {
   "cell_type": "code",
   "execution_count": 46,
   "metadata": {},
   "outputs": [
    {
     "name": "stderr",
     "output_type": "stream",
     "text": [
      "100%|██████████| 8/8 [00:01<00:00,  5.40it/s]"
     ]
    },
    {
     "name": "stdout",
     "output_type": "stream",
     "text": [
      "{'interp1d': {20: 1.8154707862500523, 30: 1.8977453811783296, 40: 1.5718849221402043, 50: 1.8503775036759946, 60: 2.2326408181510558, 70: 1.420743071566786, 80: 1.7913376026088632, 90: 2.00292105402726}, 'UnivariateSpline': {20: 1.2303926361515791, 30: 1.7175231778028741, 40: 1.4855264878266892, 50: 1.4596046940988543, 60: 1.7407747034912624, 70: 1.963338191640623, 80: 2.1284532277838975, 90: 1.8955233623126913}, 'Rbf': {20: 1.4454974648359475, 30: 2.1107758370568095, 40: 1.9068265131692577, 50: 1.4317966533848356, 60: 2.598864096854647, 70: 2.126459719406027, 80: 2.5489628647710085, 90: 2.3805978369513334}, 'make_interp_spline': {20: 1.2562331512857399, 30: 2.155078137205451, 40: 1.6363712670154367, 50: 1.6275322458992665, 60: 2.6166191110795465, 70: 1.9982609873173236, 80: 2.2360797346327863, 90: 2.371282557581345}, 'LinearRegression': {20: 2.211459220873549, 30: 2.87485102375139, 40: 2.642245254725098, 50: 3.1053581904203207, 60: 4.6122304893281925, 70: 5.401496334888229, 80: 4.795700229644704, 90: 4.982688539214607}}\n"
     ]
    },
    {
     "name": "stderr",
     "output_type": "stream",
     "text": [
      "\n"
     ]
    }
   ],
   "source": [
    "output = dict()\n",
    "def AVG(lst):\n",
    "    return sum(lst)/len(lst)\n",
    "for k1 in inter_func.keys():\n",
    "    output[k1] = dict()\n",
    "for day in tqdm(range(20, 100, 10)):\n",
    "\n",
    "    avg = dict()\n",
    "    for name in inter_func.keys():\n",
    "        avg[name] = list()\n",
    "    for _ in range(10):\n",
    "        for k1, val1 in inter_func.items():\n",
    "            ret = get_res(day=day,inter_name=k1, func=val1)\n",
    "            avg[k1].append(ret)\n",
    "    \n",
    "    for name in inter_func.keys():\n",
    "        output[name][day] = AVG(avg[name])\n",
    "print(output)"
   ]
  },
  {
   "cell_type": "code",
   "execution_count": 47,
   "metadata": {},
   "outputs": [
    {
     "name": "stdout",
     "output_type": "stream",
     "text": [
      "    interp1d  UnivariateSpline       Rbf  make_interp_spline  LinearRegression\n",
      "20  1.815471          1.230393  1.445497            1.256233          2.211459\n",
      "30  1.897745          1.717523  2.110776            2.155078          2.874851\n",
      "40  1.571885          1.485526  1.906827            1.636371          2.642245\n",
      "50  1.850378          1.459605  1.431797            1.627532          3.105358\n",
      "60  2.232641          1.740775  2.598864            2.616619          4.612230\n",
      "70  1.420743          1.963338  2.126460            1.998261          5.401496\n",
      "80  1.791338          2.128453  2.548963            2.236080          4.795700\n",
      "90  2.002921          1.895523  2.380598            2.371283          4.982689\n"
     ]
    }
   ],
   "source": [
    "df = pd.DataFrame(output)\n",
    "# df = df.drop(columns=['LinearRegression'])\n",
    "print(df)"
   ]
  },
  {
   "cell_type": "code",
   "execution_count": 49,
   "metadata": {},
   "outputs": [
    {
     "name": "stdout",
     "output_type": "stream",
     "text": [
      "dict_keys(['interp1d', 'UnivariateSpline', 'Rbf', 'make_interp_spline', 'LinearRegression'])\n"
     ]
    }
   ],
   "source": [
    "print(inter_func.keys())"
   ]
  },
  {
   "cell_type": "code",
   "execution_count": 48,
   "metadata": {},
   "outputs": [
    {
     "data": {
      "image/png": "[encoded data removed]",
      "text/plain": [
       "<Figure size 640x480 with 1 Axes>"
      ]
     },
     "metadata": {},
     "output_type": "display_data"
    }
   ],
   "source": [
    "df.index.name = 'date'\n",
    "df.to_csv(\"./mask.csv\")\n",
    "sns.lineplot(data=df[-200:],dashes=False)\n",
    "# sns.lineplot(data=Risk_Table[-200:],dashes=False)\n",
    "plt.show()"
   ]
  },
  {
   "cell_type": "code",
   "execution_count": 22,
   "metadata": {},
   "outputs": [
    {
     "name": "stderr",
     "output_type": "stream",
     "text": [
      "100%|██████████| 198/198 [00:00<00:00, 1021.33it/s]"
     ]
    },
    {
     "name": "stdout",
     "output_type": "stream",
     "text": [
      "         meta      goog      amzn       nflx      aapl\n",
      "10   3.579025  2.123370  3.096448   8.710280  3.715992\n",
      "15   3.368478  1.912816  2.956958   7.805025  3.270748\n",
      "20   4.694950  2.260889  3.470419   8.514154  3.743773\n",
      "25   4.474528  2.185165  3.324596   8.172609  3.641109\n",
      "30   4.381730  2.053572  3.073591   7.643565  3.418511\n",
      "..        ...       ...       ...        ...       ...\n",
      "975  6.156269  1.834748  2.903207  11.636690  2.321580\n",
      "980  6.148713  1.831520  2.899405  11.620413  2.317740\n",
      "985  6.135143  1.827927  2.895984  11.606952  2.314115\n",
      "990  6.121468  1.824858  2.894925  11.599363  2.312011\n",
      "995  6.113468  1.823834  2.904742  11.608948  2.307105\n",
      "\n",
      "[198 rows x 5 columns]\n"
     ]
    },
    {
     "name": "stderr",
     "output_type": "stream",
     "text": [
      "\n"
     ]
    }
   ],
   "source": [
    "prices = pd.read_csv(\"../data/Stock/stock.csv\", index_col=0)\n",
    "# length = [100, 200, 500, 1000, 2000]\n",
    "Risk_Table = pd.DataFrame(columns=prices.columns)\n",
    "import ffn\n",
    "for l in tqdm(range(10, 1000, 5)):\n",
    "    test = prices.iloc[-l:]\n",
    "    Dnext = test[ 1:].reset_index(drop=True)\n",
    "    Dthis = test[:-1].reset_index(drop=True)\n",
    "    Risk_each_day = (Dnext - Dthis)**2\n",
    "    Risk_square = Risk_each_day.sum(axis=0)/test.shape[0]\n",
    "    Risk = Risk_square**(1/2)\n",
    "    Risk.name = f\"{l}\"\n",
    "    Risk_Table = pd.concat([Risk_Table, Risk.to_frame().T])\n",
    "print(Risk_Table)"
   ]
  },
  {
   "cell_type": "code",
   "execution_count": 23,
   "metadata": {},
   "outputs": [
    {
     "name": "stdout",
     "output_type": "stream",
     "text": [
      "         meta      goog      amzn       nflx      aapl\n",
      "10        NaN       NaN       NaN        NaN       NaN\n",
      "15        NaN       NaN       NaN        NaN       NaN\n",
      "20        NaN       NaN       NaN        NaN       NaN\n",
      "25        NaN       NaN       NaN        NaN       NaN\n",
      "30   4.099742  2.107163  3.184402   8.169127  3.558027\n",
      "..        ...       ...       ...        ...       ...\n",
      "975  6.180033  1.840398  2.903327  11.660157  2.331454\n",
      "980  6.170529  1.837293  2.902139  11.647496  2.326735\n",
      "985  6.158296  1.834252  2.900582  11.633951  2.322251\n",
      "990  6.146173  1.831365  2.899435  11.623054  2.318463\n",
      "995  6.135012  1.828577  2.899653  11.614473  2.314510\n",
      "\n",
      "[198 rows x 5 columns]\n"
     ]
    }
   ],
   "source": [
    "# Risk_Table.index.name = 'date'\n",
    "Risk_Table = Risk_Table.rolling(5).mean()\n",
    "print(Risk_Table)\n",
    "sns.lineplot(data=Risk_Table,dashes=False)\n",
    "plt.gca().invert_xaxis()"
   ]
  },
  {
   "cell_type": "code",
   "execution_count": 24,
   "metadata": {},
   "outputs": [],
   "source": [
    "\n",
    "Risk_Table.to_csv(\"./risk.csv\")"
   ]
  },
  {
   "cell_type": "code",
   "execution_count": 24,
   "metadata": {},
   "outputs": [
    {
     "name": "stdout",
     "output_type": "stream",
     "text": [
      "{10: {'meta': 1.6196800643944362, 'goog': 1.2673162125859558, 'amzn': 1.597083707857153, 'nflx': 1.986006031051689, 'aapl': 1.4632982919625004}}\n"
     ]
    }
   ],
   "source": [
    "print(output)"
   ]
  },
  {
   "cell_type": "code",
   "execution_count": null,
   "metadata": {},
   "outputs": [],
   "source": [
    "# SDM stock_data_masked\n",
    "mask_percent = 0.3\n",
    "title = SD.columns\n",
    "SD = SD.to_numpy()\n",
    "SDM = SD.copy()\n",
    "\n",
    "MASK = np.random.choice([True, False], size=SDM.shape, p=[mask_percent, 1-mask_percent])\n",
    "MASK[0, :] = MASK[-1, :] = False\n",
    "SDM = np.ma.masked_array(SDM, mask=MASK)\n",
    "\n",
    "model = LinearRegression()\n",
    "inter_func = {\"interp1d\": interp1d,\n",
    "              \"UnivariateSpline\" : UnivariateSpline, \n",
    "              \"Rbf\" : Rbf, \n",
    "              \"make_interp_spline\" : make_interp_spline,\n",
    "              \"LinearRegression\": model}\n",
    "stock_avg = np.mean(SD, axis=0)"
   ]
  }
 ],
 "metadata": {
  "kernelspec": {
   "display_name": "Python 3.8.13 ('IDS')",
   "language": "python",
   "name": "python3"
  },
  "language_info": {
   "codemirror_mode": {
    "name": "ipython",
    "version": 3
   },
   "file_extension": ".py",
   "mimetype": "text/x-python",
   "name": "python",
   "nbconvert_exporter": "python",
   "pygments_lexer": "ipython3",
   "version": "3.8.13"
  },
  "orig_nbformat": 4,
  "vscode": {
   "interpreter": {
    "hash": "1438b0029609a2fc59bf65bc9b867ac378b6eb94b343b958122d438c6b063cf4"
   }
  }
 },
 "nbformat": 4,
 "nbformat_minor": 2
}
