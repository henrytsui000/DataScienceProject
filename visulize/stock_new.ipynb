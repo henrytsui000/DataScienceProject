{
 "cells": [
  {
   "cell_type": "code",
   "execution_count": null,
   "metadata": {},
   "outputs": [],
   "source": [
    "import pandas as pd\n",
    "import numpy as np\n",
    "import seaborn as sns\n",
    "import matplotlib.pyplot as plt\n",
    "%matplotlib inline"
   ]
  },
  {
   "cell_type": "code",
   "execution_count": null,
   "metadata": {},
   "outputs": [],
   "source": [
    "news = pd.read_csv(\"../data/train_bert.csv\", index_col=0)\n",
    "print(news)"
   ]
  },
  {
   "cell_type": "code",
   "execution_count": null,
   "metadata": {},
   "outputs": [],
   "source": [
    "print(news[news.index == 'META'].shape)"
   ]
  },
  {
   "cell_type": "code",
   "execution_count": null,
   "metadata": {},
   "outputs": [],
   "source": [
    "faang = [\"META\", \"GOOGL\", \"AAPL\", \"AMZN\", \"NFLX\"]\n",
    "expand = [news[news.index ==n].shape[0] for n in faang]\n",
    "plt.title(\"mount of New\")\n",
    "plt.pie(expand, labels = faang, colors = sns.hls_palette(n_colors=5), \n",
    "        radius=1, wedgeprops={'linewidth':1,'width':0.4}, autopct='%1.0f%%', pctdistance=0.8)\n"
   ]
  },
  {
   "cell_type": "code",
   "execution_count": null,
   "metadata": {},
   "outputs": [],
   "source": [
    "sns.distplot(news[\"score\"])"
   ]
  },
  {
   "cell_type": "code",
   "execution_count": null,
   "metadata": {},
   "outputs": [],
   "source": [
    "sns.distplot(news[\"score\"][news[\"score\"]>0])"
   ]
  },
  {
   "cell_type": "code",
   "execution_count": null,
   "metadata": {},
   "outputs": [],
   "source": [
    "[835, 2812, 3869, 4956, 3328] [386, 1089, 2215, 1674, 1586] [263, 410, 559, 852, 444]\n",
    "[727, 2400, 3042, 4363, 2707] [550, 1603, 3220, 2456, 2357] [207, 308, 381, 663, 294]"
   ]
  },
  {
   "cell_type": "code",
   "execution_count": null,
   "metadata": {},
   "outputs": [],
   "source": [
    "# print(news[\"neu\"])\n",
    "faang = [\"META\", \"GOOGL\", \"AAPL\", \"AMZN\", \"NFLX\"]\n",
    "state = [\"pos\", \"neg\", \"neu\"]\n",
    "pos_num, neg_num, neu_num = [], [], []\n",
    "for stock_name in faang:\n",
    "    stock_news = news[(news.index == stock_name)]\n",
    "    pos_num.append((stock_news[\"score\"] >= 3).sum())\n",
    "    neg_num.append((stock_news[\"score\"] <= -3).sum())\n",
    "    neu_num.append((abs(stock_news[\"score\"]) < 3).sum())\n",
    "tot_sum = [sum(x) for x in zip(pos_num, neu_num, neg_num)]\n",
    "neu_sum = [int((pos+neu)*100/sum([pos, neu, neg])) \n",
    "                    for pos, neu, neg in zip(pos_num, neu_num, neg_num)]\n",
    "pos_sum = [int(pos*100/sum([pos, neu, neg])) \n",
    "                    for pos, neu, neg in zip(pos_num, neu_num, neg_num)]\n"
   ]
  },
  {
   "cell_type": "code",
   "execution_count": null,
   "metadata": {},
   "outputs": [],
   "source": [
    "import matplotlib.patches as mp \n",
    "ax=sns.barplot(x=faang,y=[100 for _ in range(5)],color='#d58e96')\n",
    "ax=sns.barplot(x=faang,y=neu_sum,color='#b3b3b3')\n",
    "ax=sns.barplot(x=faang,y=pos_sum,color='#61b8d8')\n",
    "for i in range(3): ax.bar_label(ax.containers[i])\n",
    "blue_patch = mp.Patch(color='#61b8d8', label='The Pos News',)\n",
    "red_patch = mp.Patch(color='#d58e96', label='The Neg News')\n",
    "gray_patch = mp.Patch(color='#b3b3b3', label='The Neu News')\n",
    "ax.legend(handles=[red_patch,gray_patch,  blue_patch, ])\n",
    "ax.set_title('Positive News vs Negative News')"
   ]
  },
  {
   "cell_type": "code",
   "execution_count": null,
   "metadata": {},
   "outputs": [],
   "source": [
    "price = pd.read_csv(\"../data/Stock/stock.csv\", index_col=0)\n",
    "print(price)"
   ]
  },
  {
   "cell_type": "code",
   "execution_count": null,
   "metadata": {},
   "outputs": [],
   "source": [
    "import ffn\n",
    "\n",
    "price = price[['goog','amzn','meta','nflx', \"aapl\"]]\n",
    "price.iloc[-500:].rebase().plot_corr_heatmap()\n",
    "plt.title(\"500 days Corr\")\n",
    "plt.savefig(\"../src/corr2.jpg\")"
   ]
  },
  {
   "cell_type": "code",
   "execution_count": null,
   "metadata": {},
   "outputs": [],
   "source": [
    "import pandas as pd\n",
    "import numpy as np\n",
    "from pandas_datareader import data\n",
    "import pandas_datareader.data as web\n",
    "import datetime\n",
    "import matplotlib.pyplot as plt\n",
    "import mplfinance as mpf\n"
   ]
  },
  {
   "cell_type": "code",
   "execution_count": null,
   "metadata": {},
   "outputs": [],
   "source": []
  },
  {
   "cell_type": "code",
   "execution_count": null,
   "metadata": {},
   "outputs": [],
   "source": [
    "for name in faang:\n",
    "    data=web.DataReader(name,'yahoo')\n",
    "    mpf.plot(data,type='candle',mav=(3,6,9),volume=True)"
   ]
  },
  {
   "cell_type": "code",
   "execution_count": null,
   "metadata": {},
   "outputs": [],
   "source": [
    "np.linspace(0.1, 0.9, 5)"
   ]
  },
  {
   "cell_type": "code",
   "execution_count": null,
   "metadata": {},
   "outputs": [],
   "source": [
    "%matplotlib inline\n",
    "import numpy as np\n",
    "import seaborn as sns\n",
    "import pandas as pd\n",
    "import matplotlib.pyplot as plt\n",
    "price = pd.read_csv(\"../data/Stock/stock.csv\", index_col=0)\n",
    "sns.set(rc={'figure.figsize':(6,8)})\n",
    "for idx,  mask_percent in enumerate(np.linspace(0.1, 0.9, 5)):\n",
    "    plt.subplot(161+idx)\n",
    "    plt.title(f\"{mask_percent.round(2)*100}%\")\n",
    "    MASK = np.random.choice([True, False], size=(50, 5), p=[mask_percent, 1-mask_percent])\n",
    "    ax = sns.heatmap(MASK,cbar=False, yticklabels=(True if idx == 0 else False), xticklabels=False, cmap=\"YlGnBu\")\n",
    "plt.show()"
   ]
  },
  {
   "cell_type": "code",
   "execution_count": null,
   "metadata": {},
   "outputs": [],
   "source": []
  }
 ],
 "metadata": {
  "kernelspec": {
   "display_name": "Python 3.8.13 ('IDS')",
   "language": "python",
   "name": "python3"
  },
  "language_info": {
   "codemirror_mode": {
    "name": "ipython",
    "version": 3
   },
   "file_extension": ".py",
   "mimetype": "text/x-python",
   "name": "python",
   "nbconvert_exporter": "python",
   "pygments_lexer": "ipython3",
   "version": "3.8.13"
  },
  "vscode": {
   "interpreter": {
    "hash": "1438b0029609a2fc59bf65bc9b867ac378b6eb94b343b958122d438c6b063cf4"
   }
  }
 },
 "nbformat": 4,
 "nbformat_minor": 2
}
