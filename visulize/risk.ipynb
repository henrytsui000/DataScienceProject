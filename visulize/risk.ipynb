{
 "cells": [
  {
   "cell_type": "code",
   "execution_count": 1,
   "metadata": {},
   "outputs": [],
   "source": [
    "import pandas as pd\n",
    "import seaborn as sns\n",
    "import matplotlib.pyplot as plt\n",
    "import numpy as np\n",
    "import ffn\n",
    "%matplotlib inline"
   ]
  },
  {
   "cell_type": "code",
   "execution_count": 2,
   "metadata": {},
   "outputs": [],
   "source": [
    "prices = pd.read_csv(\"../data/stock.csv\", index_col=0)"
   ]
  },
  {
   "cell_type": "code",
   "execution_count": 3,
   "metadata": {},
   "outputs": [
    {
     "name": "stdout",
     "output_type": "stream",
     "text": [
      "          meta      goog      amzn      nflx      aapl\n",
      "100   2.885279  2.318868  3.271977  4.041021  2.143688\n",
      "200   2.607665  1.899779  2.387325  2.506661  1.857939\n",
      "500   2.832774  3.045543  2.097889  2.429130  2.394672\n",
      "1000  3.981930  3.367472  3.376081  3.636639  4.435451\n"
     ]
    }
   ],
   "source": [
    "length = [100, 200, 500, 1000]\n",
    "Risk_Table = pd.DataFrame(columns=prices.columns)\n",
    "\n",
    "for l in length:\n",
    "    test = prices.iloc[-l:].rebase()\n",
    "    Dnext = test[ 1:].reset_index(drop=True)\n",
    "    Dthis = test[:-1].reset_index(drop=True)\n",
    "    Risk_each_day = (Dnext - Dthis)**2\n",
    "    Risk_square = Risk_each_day.sum(axis=0)/test.shape[0]\n",
    "    Risk = Risk_square**(1/2)\n",
    "    Risk.name = f\"{l}\"\n",
    "    Risk_Table = pd.concat([Risk_Table, Risk.to_frame().T])\n",
    "print(Risk_Table)"
   ]
  }
 ],
 "metadata": {
  "kernelspec": {
   "display_name": "Python 3.8.13 ('IDS')",
   "language": "python",
   "name": "python3"
  },
  "language_info": {
   "codemirror_mode": {
    "name": "ipython",
    "version": 3
   },
   "file_extension": ".py",
   "mimetype": "text/x-python",
   "name": "python",
   "nbconvert_exporter": "python",
   "pygments_lexer": "ipython3",
   "version": "3.8.13"
  },
  "orig_nbformat": 4,
  "vscode": {
   "interpreter": {
    "hash": "1438b0029609a2fc59bf65bc9b867ac378b6eb94b343b958122d438c6b063cf4"
   }
  }
 },
 "nbformat": 4,
 "nbformat_minor": 2
}
