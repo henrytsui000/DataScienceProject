{
 "cells": [
  {
   "cell_type": "code",
   "execution_count": null,
   "metadata": {},
   "outputs": [],
   "source": [
    "import pandas as pd\n",
    "import seaborn as sns\n",
    "import matplotlib.pyplot as plt\n",
    "import numpy as np\n",
    "import ffn\n",
    "%matplotlib inline"
   ]
  },
  {
   "cell_type": "code",
   "execution_count": null,
   "metadata": {},
   "outputs": [],
   "source": [
    "prices = pd.read_csv(\"../data/stock.csv\", index_col=0)"
   ]
  },
  {
   "cell_type": "code",
   "execution_count": null,
   "metadata": {},
   "outputs": [],
   "source": [
    "length = [100, 200, 500, 1000, 2000]\n",
    "Risk_Table = pd.DataFrame(columns=prices.columns)\n",
    "\n",
    "for l in length:\n",
    "    test = prices.iloc[-l:].rebase()\n",
    "    Dnext = test[ 1:].reset_index(drop=True)\n",
    "    Dthis = test[:-1].reset_index(drop=True)\n",
    "    Risk_each_day = (Dnext - Dthis)**2\n",
    "    Risk_square = Risk_each_day.sum(axis=0)/test.shape[0]\n",
    "    Risk = Risk_square**(1/2)\n",
    "    Risk.name = f\"{l}\"\n",
    "    Risk_Table = pd.concat([Risk_Table, Risk.to_frame().T])\n",
    "print(Risk_Table)"
   ]
  },
  {
   "cell_type": "code",
   "execution_count": null,
   "metadata": {},
   "outputs": [],
   "source": []
  }
 ],
 "metadata": {
  "kernelspec": {
   "display_name": "IDS",
   "language": "python",
   "name": "python3"
  },
  "language_info": {
   "codemirror_mode": {
    "name": "ipython",
    "version": 3
   },
   "file_extension": ".py",
   "mimetype": "text/x-python",
   "name": "python",
   "nbconvert_exporter": "python",
   "pygments_lexer": "ipython3",
   "version": "3.8.13 (default, Oct 21 2022, 23:50:54) \n[GCC 11.2.0]"
  },
  "vscode": {
   "interpreter": {
    "hash": "6c5319918c1df56bbc8425fc11a4113500c53384b36f54418b1e7926749cda2f"
   }
  }
 },
 "nbformat": 4,
 "nbformat_minor": 2
}
